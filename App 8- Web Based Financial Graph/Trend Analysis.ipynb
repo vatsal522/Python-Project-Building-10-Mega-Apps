{
 "cells": [
  {
   "cell_type": "code",
   "execution_count": 4,
   "metadata": {},
   "outputs": [
    {
     "name": "stderr",
     "output_type": "stream",
     "text": [
      "C:\\Users\\91771\\anaconda3\\lib\\site-packages\\pandas_datareader\\compat\\__init__.py:7: FutureWarning:\n",
      "\n",
      "pandas.util.testing is deprecated. Use the functions in the public API at pandas.testing instead.\n",
      "\n",
      "C:\\Users\\91771\\anaconda3\\lib\\site-packages\\mpl_finance.py:22: DeprecationWarning:\n",
      "\n",
      "\n",
      "\n",
      "  =================================================================\n",
      "\n",
      "   WARNING: `mpl_finance` is deprecated:\n",
      "\n",
      "    Please use `mplfinance` instead (no hyphen, no underscore).\n",
      "\n",
      "    To install: `pip install --upgrade mplfinance` \n",
      "\n",
      "   For more information, see: https://pypi.org/project/mplfinance/\n",
      "\n",
      "  =================================================================\n",
      "\n",
      "\n",
      "C:\\Users\\91771\\anaconda3\\lib\\site-packages\\fix_yahoo_finance\\__init__.py:0: DeprecationWarning:\n",
      "\n",
      "\n",
      "\n",
      "*** `fix_yahoo_finance` was renamed to `yfinance`. ***\n",
      "Please install and use `yfinance` directly using `pip install yfinance -U`\n",
      "\n",
      "More information: https://github.com/ranaroussi/yfinance\n",
      "\n",
      "\n"
     ]
    },
    {
     "name": "stdout",
     "output_type": "stream",
     "text": [
      "[*********************100%***********************]  1 of 1 completed\n"
     ]
    },
    {
     "ename": "AttributeError",
     "evalue": "'int' object has no attribute 'toordinal'",
     "output_type": "error",
     "traceback": [
      "\u001b[1;31m---------------------------------------------------------------------------\u001b[0m",
      "\u001b[1;31mAttributeError\u001b[0m                            Traceback (most recent call last)",
      "\u001b[1;32m<ipython-input-4-a6db9972394a>\u001b[0m in \u001b[0;36m<module>\u001b[1;34m\u001b[0m\n\u001b[0;32m     12\u001b[0m \u001b[0maapl\u001b[0m\u001b[1;33m.\u001b[0m\u001b[0mreset_index\u001b[0m\u001b[1;33m(\u001b[0m\u001b[0minplace\u001b[0m\u001b[1;33m=\u001b[0m\u001b[1;32mTrue\u001b[0m\u001b[1;33m)\u001b[0m\u001b[1;33m\u001b[0m\u001b[1;33m\u001b[0m\u001b[0m\n\u001b[0;32m     13\u001b[0m \u001b[1;33m\u001b[0m\u001b[0m\n\u001b[1;32m---> 14\u001b[1;33m \u001b[0maapl\u001b[0m\u001b[1;33m[\u001b[0m\u001b[1;34m'Date'\u001b[0m\u001b[1;33m]\u001b[0m \u001b[1;33m=\u001b[0m \u001b[0maapl\u001b[0m\u001b[1;33m.\u001b[0m\u001b[0mindex\u001b[0m\u001b[1;33m.\u001b[0m\u001b[0mmap\u001b[0m\u001b[1;33m(\u001b[0m\u001b[0mmdates\u001b[0m\u001b[1;33m.\u001b[0m\u001b[0mdate2num\u001b[0m\u001b[1;33m)\u001b[0m\u001b[1;33m\u001b[0m\u001b[1;33m\u001b[0m\u001b[0m\n\u001b[0m\u001b[0;32m     15\u001b[0m \u001b[1;33m\u001b[0m\u001b[0m\n\u001b[0;32m     16\u001b[0m \u001b[0mfig\u001b[0m\u001b[1;33m,\u001b[0m \u001b[0max\u001b[0m \u001b[1;33m=\u001b[0m \u001b[0mplt\u001b[0m\u001b[1;33m.\u001b[0m\u001b[0msubplots\u001b[0m\u001b[1;33m(\u001b[0m\u001b[1;33m)\u001b[0m\u001b[1;33m\u001b[0m\u001b[1;33m\u001b[0m\u001b[0m\n",
      "\u001b[1;32m~\\anaconda3\\lib\\site-packages\\pandas\\core\\indexes\\base.py\u001b[0m in \u001b[0;36mmap\u001b[1;34m(self, mapper, na_action)\u001b[0m\n\u001b[0;32m   4563\u001b[0m         \u001b[1;32mfrom\u001b[0m \u001b[0mpandas\u001b[0m\u001b[1;33m.\u001b[0m\u001b[0mcore\u001b[0m\u001b[1;33m.\u001b[0m\u001b[0mindexes\u001b[0m\u001b[1;33m.\u001b[0m\u001b[0mmulti\u001b[0m \u001b[1;32mimport\u001b[0m \u001b[0mMultiIndex\u001b[0m\u001b[1;33m\u001b[0m\u001b[1;33m\u001b[0m\u001b[0m\n\u001b[0;32m   4564\u001b[0m \u001b[1;33m\u001b[0m\u001b[0m\n\u001b[1;32m-> 4565\u001b[1;33m         \u001b[0mnew_values\u001b[0m \u001b[1;33m=\u001b[0m \u001b[0msuper\u001b[0m\u001b[1;33m(\u001b[0m\u001b[1;33m)\u001b[0m\u001b[1;33m.\u001b[0m\u001b[0m_map_values\u001b[0m\u001b[1;33m(\u001b[0m\u001b[0mmapper\u001b[0m\u001b[1;33m,\u001b[0m \u001b[0mna_action\u001b[0m\u001b[1;33m=\u001b[0m\u001b[0mna_action\u001b[0m\u001b[1;33m)\u001b[0m\u001b[1;33m\u001b[0m\u001b[1;33m\u001b[0m\u001b[0m\n\u001b[0m\u001b[0;32m   4566\u001b[0m \u001b[1;33m\u001b[0m\u001b[0m\n\u001b[0;32m   4567\u001b[0m         \u001b[0mattributes\u001b[0m \u001b[1;33m=\u001b[0m \u001b[0mself\u001b[0m\u001b[1;33m.\u001b[0m\u001b[0m_get_attributes_dict\u001b[0m\u001b[1;33m(\u001b[0m\u001b[1;33m)\u001b[0m\u001b[1;33m\u001b[0m\u001b[1;33m\u001b[0m\u001b[0m\n",
      "\u001b[1;32m~\\anaconda3\\lib\\site-packages\\pandas\\core\\base.py\u001b[0m in \u001b[0;36m_map_values\u001b[1;34m(self, mapper, na_action)\u001b[0m\n\u001b[0;32m   1152\u001b[0m \u001b[1;33m\u001b[0m\u001b[0m\n\u001b[0;32m   1153\u001b[0m         \u001b[1;31m# mapper is a function\u001b[0m\u001b[1;33m\u001b[0m\u001b[1;33m\u001b[0m\u001b[1;33m\u001b[0m\u001b[0m\n\u001b[1;32m-> 1154\u001b[1;33m         \u001b[0mnew_values\u001b[0m \u001b[1;33m=\u001b[0m \u001b[0mmap_f\u001b[0m\u001b[1;33m(\u001b[0m\u001b[0mvalues\u001b[0m\u001b[1;33m,\u001b[0m \u001b[0mmapper\u001b[0m\u001b[1;33m)\u001b[0m\u001b[1;33m\u001b[0m\u001b[1;33m\u001b[0m\u001b[0m\n\u001b[0m\u001b[0;32m   1155\u001b[0m \u001b[1;33m\u001b[0m\u001b[0m\n\u001b[0;32m   1156\u001b[0m         \u001b[1;32mreturn\u001b[0m \u001b[0mnew_values\u001b[0m\u001b[1;33m\u001b[0m\u001b[1;33m\u001b[0m\u001b[0m\n",
      "\u001b[1;32mpandas\\_libs\\lib.pyx\u001b[0m in \u001b[0;36mpandas._libs.lib.map_infer\u001b[1;34m()\u001b[0m\n",
      "\u001b[1;32m~\\anaconda3\\lib\\site-packages\\matplotlib\\dates.py\u001b[0m in \u001b[0;36mdate2num\u001b[1;34m(d)\u001b[0m\n\u001b[0;32m    413\u001b[0m                  np.issubdtype(d.dtype, np.datetime64))):\n\u001b[0;32m    414\u001b[0m             \u001b[1;32mreturn\u001b[0m \u001b[0m_dt64_to_ordinalf\u001b[0m\u001b[1;33m(\u001b[0m\u001b[0md\u001b[0m\u001b[1;33m)\u001b[0m\u001b[1;33m\u001b[0m\u001b[1;33m\u001b[0m\u001b[0m\n\u001b[1;32m--> 415\u001b[1;33m         \u001b[1;32mreturn\u001b[0m \u001b[0m_to_ordinalf\u001b[0m\u001b[1;33m(\u001b[0m\u001b[0md\u001b[0m\u001b[1;33m)\u001b[0m\u001b[1;33m\u001b[0m\u001b[1;33m\u001b[0m\u001b[0m\n\u001b[0m\u001b[0;32m    416\u001b[0m \u001b[1;33m\u001b[0m\u001b[0m\n\u001b[0;32m    417\u001b[0m     \u001b[1;32melse\u001b[0m\u001b[1;33m:\u001b[0m\u001b[1;33m\u001b[0m\u001b[1;33m\u001b[0m\u001b[0m\n",
      "\u001b[1;32m~\\anaconda3\\lib\\site-packages\\matplotlib\\dates.py\u001b[0m in \u001b[0;36m_to_ordinalf\u001b[1;34m(dt)\u001b[0m\n\u001b[0;32m    221\u001b[0m         \u001b[0mtzi\u001b[0m \u001b[1;33m=\u001b[0m \u001b[0mUTC\u001b[0m\u001b[1;33m\u001b[0m\u001b[1;33m\u001b[0m\u001b[0m\n\u001b[0;32m    222\u001b[0m \u001b[1;33m\u001b[0m\u001b[0m\n\u001b[1;32m--> 223\u001b[1;33m     \u001b[0mbase\u001b[0m \u001b[1;33m=\u001b[0m \u001b[0mfloat\u001b[0m\u001b[1;33m(\u001b[0m\u001b[0mdt\u001b[0m\u001b[1;33m.\u001b[0m\u001b[0mtoordinal\u001b[0m\u001b[1;33m(\u001b[0m\u001b[1;33m)\u001b[0m\u001b[1;33m)\u001b[0m\u001b[1;33m\u001b[0m\u001b[1;33m\u001b[0m\u001b[0m\n\u001b[0m\u001b[0;32m    224\u001b[0m \u001b[1;33m\u001b[0m\u001b[0m\n\u001b[0;32m    225\u001b[0m     \u001b[1;31m# If it's sufficiently datetime-like, it will have a `date()` method\u001b[0m\u001b[1;33m\u001b[0m\u001b[1;33m\u001b[0m\u001b[1;33m\u001b[0m\u001b[0m\n",
      "\u001b[1;31mAttributeError\u001b[0m: 'int' object has no attribute 'toordinal'"
     ]
    }
   ],
   "source": [
    "from pandas_datareader import data\n",
    "import matplotlib.pyplot as plt\n",
    "from mpl_finance import candlestick2_ohlc\n",
    "import matplotlib.dates as mdates\n",
    "import fix_yahoo_finance as yf\n",
    "import datetime\n",
    "\n",
    "start = datetime.date(2018, 1, 1)\n",
    "end = datetime.date.today()\n",
    "\n",
    "aapl = yf.download(\"AAPL\",start,end) \n",
    "aapl.reset_index(inplace=True)\n",
    "\n",
    "aapl['Date'] = aapl.index.map(mdates.date2num)\n",
    "\n",
    "fig, ax = plt.subplots()\n",
    "plt.xlabel(\"Date\")\n",
    "plt.ylabel(\"Price\")\n",
    "\n",
    "candlestick2_ohlc(ax, aapl.Open, aapl.High, aapl.Low, aapl.Close, width=1, colorup='g')\n",
    "plt.savefig('my_figure.png')\n",
    "plt.show()"
   ]
  },
  {
   "cell_type": "code",
   "execution_count": 6,
   "metadata": {},
   "outputs": [
    {
     "data": {
      "image/png": "[encoded data removed]",
      "text/plain": [
       "<Figure size 432x288 with 1 Axes>"
      ]
     },
     "metadata": {},
     "output_type": "display_data"
    }
   ],
   "source": [
    "import matplotlib.pyplot as plt\n",
    "from mpl_finance import candlestick_ohlc\n",
    "import pandas as pd\n",
    "import matplotlib.dates as mpl_dates\n",
    "\n",
    "plt.style.use('ggplot')\n",
    "\n",
    "# Extracting Data for plotting\n",
    "data = pd.read_csv('AAPL.csv')\n",
    "ohlc = data.loc[:, ['Date', 'Open', 'High', 'Low', 'Close']]\n",
    "ohlc['Date'] = pd.to_datetime(ohlc['Date'])\n",
    "ohlc['Date'] = ohlc['Date'].apply(mpl_dates.date2num)\n",
    "ohlc = ohlc.astype(float)\n",
    "\n",
    "# Creating Subplots\n",
    "fig, ax = plt.subplots()\n",
    "\n",
    "candlestick_ohlc(ax, ohlc.values, width=0.6, colorup='green', colordown='red', alpha=0.8)\n",
    "\n",
    "# Setting labels & titles\n",
    "ax.set_xlabel('Date')\n",
    "ax.set_ylabel('Price')\n",
    "fig.suptitle('Daily Candlestick Chart of NIFTY50')\n",
    "\n",
    "# Formatting Date\n",
    "date_format = mpl_dates.DateFormatter('%d-%m-%Y')\n",
    "ax.xaxis.set_major_formatter(date_format)\n",
    "fig.autofmt_xdate()\n",
    "\n",
    "fig.tight_layout()\n",
    "\n",
    "plt.show()"
   ]
  },
  {
   "cell_type": "code",
   "execution_count": 20,
   "metadata": {
    "scrolled": true
   },
   "outputs": [
    {
     "data": {
      "application/vnd.plotly.v1+json": {
       "config": {
        "plotlyServerURL": "https://plot.ly"
       },
       "data": [
        {
         "close": [
          132.53999299999998,
          130.279999,
          128.649994,
          127.16999799999999,
          126.599998,
          126.75,
          126.440002,
          123.279999,
          129.619995,
          124.5,
          121.300003,
          115.519997,
          115.959999,
          105.760002,
          113.290001,
          109.269997,
          114.209999,
          113.449997,
          114.709999,
          110.379997,
          112.120003,
          111.040001,
          119.08000200000001,
          119.5,
          121.059998,
          112.339996,
          119.300003,
          117.809998,
          119.029999,
          113.18,
          106.029999,
          108.029999,
          105.260002,
          96.959999,
          97.129997,
          101.41999799999999,
          97.339996,
          94.019997,
          93.989998,
          96.040001,
          96.910004,
          103.010002,
          102.260002,
          105.91999799999999,
          105.66999799999999,
          109.989998,
          108.660004,
          109.849998,
          105.68,
          93.739998,
          92.720001,
          90.519997,
          95.220001,
          100.349998,
          97.91999799999999,
          98.83000200000001,
          95.33000200000001,
          93.400002,
          95.889999,
          96.68,
          98.779999,
          98.660004,
          104.209999,
          107.480003,
          108.18,
          109.360001,
          106.940002,
          107.730003,
          103.129997,
          114.91999799999999,
          112.709999,
          113.050003,
          114.059998,
          117.629997,
          116.599998,
          113.720001,
          108.839996,
          108.43,
          110.059998,
          111.790001,
          109.900002,
          113.949997,
          115.970001,
          116.519997,
          115.82,
          117.910004,
          119.040001,
          120,
          121.949997,
          129.080002,
          132.119995,
          135.720001,
          136.66000400000001,
          139.779999,
          139.139999,
          139.990005,
          140.639999,
          143.66000400000001,
          143.33999599999999,
          141.050003,
          142.270004,
          143.649994,
          148.96000700000002,
          156.100006,
          153.059998,
          153.610001,
          155.449997,
          148.979996,
          142.270004,
          146.279999,
          144.020004,
          144.179993,
          149.03999299999998,
          150.270004,
          149.5,
          156.389999,
          157.479996,
          157.5,
          159.860001,
          164.050003,
          158.630005,
          159.880005,
          151.889999,
          154.119995,
          155.300003,
          156.990005,
          156.25,
          163.050003,
          172.5,
          174.669998,
          170.149994,
          174.970001,
          171.050003,
          169.369995,
          173.970001,
          175.009995,
          169.229996,
          175,
          177.08999599999999,
          178.46000700000002,
          171.509995,
          160.5,
          156.41000400000001,
          172.429993,
          175.5,
          176.21000700000002,
          179.979996,
          178.020004,
          164.940002,
          167.779999,
          168.380005,
          174.729996,
          165.720001,
          162.320007,
          183.830002,
          188.58999599999999,
          186.309998,
          188.580002,
          190.240005,
          191.699997,
          188.83999599999999,
          184.919998,
          185.110001,
          187.970001,
          191.330002,
          191.440002,
          190.979996,
          207.990005,
          207.529999,
          217.580002,
          216.16000400000001,
          227.63000499999998,
          221.30000299999998,
          223.83999599999999,
          217.66000400000001,
          225.74000499999997,
          224.289993,
          222.11000099999998,
          219.309998,
          216.30000299999998,
          207.479996,
          204.470001,
          193.529999,
          172.28999299999998,
          178.580002,
          168.490005,
          165.479996,
          150.729996,
          156.229996,
          148.259995,
          152.28999299999998,
          156.820007,
          157.759995,
          166.520004,
          170.41000400000001,
          170.419998,
          172.970001,
          174.970001,
          172.91000400000001,
          186.119995,
          191.050003,
          189.949997,
          197,
          198.869995,
          203.860001,
          204.300003,
          211.75,
          197.179993,
          189,
          178.970001,
          175.070007,
          190.149994,
          192.740005,
          198.779999,
          197.919998,
          204.229996,
          203.300003,
          202.58999599999999,
          207.740005,
          204.020004,
          200.990005,
          206.5,
          202.639999,
          208.740005,
          213.25999500000003,
          218.75,
          217.729996,
          218.82000699999998,
          227.00999500000003,
          236.210007,
          236.41000400000001,
          246.580002,
          255.82000699999998,
          260.140015,
          265.76001,
          261.77999900000003,
          267.25,
          270.709991,
          275.149994,
          279.440002,
          289.799988,
          297.429993,
          310.329987,
          318.730011,
          318.309998,
          309.51001,
          320.02999900000003,
          324.950012,
          313.049988,
          273.359985,
          289.02999900000003,
          277.97000099999997,
          229.24000499999997,
          247.74000499999997,
          241.41000400000001,
          267.98999,
          282.799988,
          282.97000099999997,
          289.070007,
          310.130005,
          307.709991,
          314.959991,
          313.140015
         ],
         "high": [
          132.970001,
          132.91000400000001,
          131.389999,
          130.179993,
          128.309998,
          129.800003,
          126.940002,
          126.230003,
          129.619995,
          132.970001,
          123.910004,
          122.57,
          119.989998,
          117.650002,
          113.309998,
          114.529999,
          114.209999,
          116.889999,
          116.690002,
          114.57,
          112.279999,
          112.75,
          119.230003,
          121.220001,
          123.82,
          121.809998,
          119.91999799999999,
          119.730003,
          119.410004,
          119.860001,
          112.800003,
          109,
          109.43,
          105.849998,
          101.190002,
          101.459999,
          101.529999,
          97.33000200000001,
          96.349998,
          98.889999,
          98.019997,
          103.75,
          102.83000200000001,
          106.5,
          107.650002,
          110.41999799999999,
          112.190002,
          112.389999,
          108.949997,
          105.650002,
          95.900002,
          93.769997,
          95.43,
          100.730003,
          100.400002,
          101.889999,
          99.120003,
          96.889999,
          96.470001,
          96.889999,
          99.300003,
          101,
          104.550003,
          107.650002,
          108.940002,
          110.230003,
          109.32,
          108,
          108.760002,
          116.129997,
          116.18,
          114.639999,
          114.559998,
          118.690002,
          118.209999,
          118.360001,
          114.230003,
          111.720001,
          110.540001,
          112.41999799999999,
          112.470001,
          114.699997,
          116.730003,
          117.5,
          118.019997,
          118.160004,
          119.93,
          120.5,
          122.440002,
          130.490005,
          132.940002,
          136.270004,
          137.479996,
          140.279999,
          139.979996,
          141.020004,
          142.800003,
          144.5,
          145.46000700000002,
          143.880005,
          142.919998,
          144.899994,
          148.979996,
          156.419998,
          156.649994,
          154.899994,
          155.449997,
          155.979996,
          147.5,
          147.16000400000001,
          148.279999,
          145.300003,
          149.330002,
          151.740005,
          153.990005,
          159.75,
          161.830002,
          162.509995,
          160.740005,
          164.940002,
          164.25,
          163.96000700000002,
          160.5,
          154.720001,
          155.490005,
          158,
          160.869995,
          163.600006,
          174.259995,
          176.240005,
          174.5,
          175.5,
          175.080002,
          172.619995,
          174.169998,
          177.199997,
          171.850006,
          175.369995,
          177.360001,
          180.100006,
          179.440002,
          170.16000400000001,
          163.880005,
          174.820007,
          175.649994,
          180.619995,
          180,
          183.5,
          177.470001,
          175.149994,
          174.229996,
          175.83999599999999,
          178.940002,
          166.919998,
          184.25,
          190.369995,
          189.529999,
          189.649994,
          190.259995,
          194.199997,
          192.880005,
          189.220001,
          187.279999,
          188.429993,
          191.83999599999999,
          192.649994,
          195.96000700000002,
          208.740005,
          209.77999900000003,
          217.94999700000002,
          219.17999300000002,
          228.86999500000002,
          229.669998,
          228.350006,
          222.94999700000002,
          226.440002,
          233.47000099999997,
          227.270004,
          222.99000499999997,
          224.229996,
          222.36000099999998,
          210.11999500000002,
          199.850006,
          190.699997,
          182.800003,
          184.940002,
          172.570007,
          168.350006,
          158.520004,
          159.360001,
          154.529999,
          157.880005,
          158.130005,
          169,
          175.570007,
          172.479996,
          173.320007,
          175.869995,
          177.75,
          187.330002,
          197.690002,
          192.880005,
          197.100006,
          202.850006,
          204.149994,
          208.479996,
          215.309998,
          208.83999599999999,
          192.470001,
          188,
          180.58999599999999,
          191.919998,
          196.78999299999998,
          200.850006,
          201.570007,
          205.080002,
          204.389999,
          206.5,
          209.729996,
          221.36999500000002,
          203.529999,
          212.13999900000002,
          214.440002,
          210.44999700000002,
          214.419998,
          226.419998,
          223.75999500000003,
          222.49000499999997,
          228.22000099999997,
          237.63999900000002,
          238.13000499999998,
          246.729996,
          255.92999300000002,
          260.440002,
          265.77999900000003,
          268,
          268,
          271,
          275.299988,
          282.649994,
          293.97000099999997,
          300.600006,
          312.670013,
          318.73999,
          323.329987,
          327.850006,
          325.22000099999997,
          327.22000099999997,
          324.649994,
          304.179993,
          304,
          286.440002,
          259.079987,
          258.679993,
          262.48999,
          271.700012,
          288.25,
          283.01001,
          299,
          310.350006,
          319.690002,
          316.5,
          318.519989
         ],
         "low": [
          128.360001,
          129.119995,
          128.360001,
          125.620003,
          125.709999,
          126.510002,
          124.480003,
          119.220001,
          124.32,
          121.989998,
          120.910004,
          112.099998,
          109.629997,
          105.650002,
          92,
          107.360001,
          109.769997,
          111.870003,
          112.370003,
          107.309998,
          108.209999,
          109.559998,
          110.110001,
          113.989998,
          119.610001,
          112.269997,
          111,
          117.120003,
          114.220001,
          112.849998,
          105.809998,
          105.57,
          104.82,
          96.43,
          95.360001,
          93.41999799999999,
          92.389999,
          93.690002,
          92.589996,
          94.610001,
          93.32,
          96.650002,
          100.150002,
          101.779999,
          104.889999,
          104.879997,
          108.120003,
          108.660004,
          104.620003,
          92.510002,
          91.849998,
          89.470001,
          91.650002,
          95.66999799999999,
          96.629997,
          97.550003,
          95.300003,
          92.650002,
          91.5,
          94.370003,
          96.730003,
          98.309998,
          96.41999799999999,
          104,
          107.160004,
          108.08000200000001,
          106.309998,
          105.5,
          103.129997,
          102.529999,
          111.550003,
          111.550003,
          112.279999,
          114.720001,
          113.800003,
          113.309998,
          108.110001,
          105.83000200000001,
          104.08000200000001,
          110.010002,
          108.849998,
          108.25,
          112.489998,
          115.589996,
          115.43,
          114.760002,
          117.940002,
          118.220001,
          119.5,
          120.620003,
          128.899994,
          132.75,
          135.279999,
          136.279999,
          137.050003,
          138.820007,
          139.729996,
          138.619995,
          143.050003,
          140.059998,
          140.449997,
          143.179993,
          144.270004,
          149.029999,
          149.71000700000002,
          152.669998,
          152.220001,
          146.020004,
          142.199997,
          143.66000400000001,
          142.279999,
          142.41000400000001,
          143.369995,
          148.570007,
          147.300003,
          148.130005,
          154.630005,
          156.720001,
          155.110001,
          159.929993,
          158.529999,
          157.91000400000001,
          150.559998,
          149.16000400000001,
          152.46000700000002,
          155.100006,
          155.020004,
          155.270004,
          163.720001,
          171.720001,
          168.380005,
          169.559998,
          167.16000400000001,
          166.46000700000002,
          168.78999299999998,
          173.25,
          169.220001,
          169.259995,
          173,
          175.070007,
          170.059998,
          160.100006,
          150.240005,
          157.509995,
          171.009995,
          172.449997,
          174.270004,
          177.619995,
          164.940002,
          165.190002,
          164.470001,
          169.850006,
          165.429993,
          160.630005,
          161.83999599999999,
          183.669998,
          185.100006,
          185.759995,
          186.139999,
          189.770004,
          188.259995,
          183.449997,
          180.729996,
          183.419998,
          187.610001,
          189.199997,
          189.559998,
          189.070007,
          204.520004,
          207.699997,
          213.83999599999999,
          216.330002,
          220.710007,
          216.47000099999997,
          215.30000299999998,
          216.63000499999998,
          220.580002,
          212.32000699999998,
          213,
          212.669998,
          205.429993,
          198.169998,
          185.929993,
          172.100006,
          170.259995,
          168.300003,
          163.330002,
          149.630005,
          146.58999599999999,
          142,
          145.899994,
          149.220001,
          151.699997,
          153.66000400000001,
          167.279999,
          169.25,
          169.490005,
          172.729996,
          169.5,
          175.350006,
          184.729996,
          184.580002,
          188.380005,
          196.21000700000002,
          198.009995,
          202.119995,
          199.110001,
          192.770004,
          182.850006,
          177.809998,
          174.990005,
          170.270004,
          190.300003,
          192.169998,
          195.28999299999998,
          200.649994,
          198.41000400000001,
          202.360001,
          203.610001,
          201.630005,
          192.580002,
          199.149994,
          201,
          203.320007,
          204.220001,
          211.07000699999998,
          217.47000099999997,
          217.13999900000002,
          215.13000499999998,
          224.330002,
          233.19999700000002,
          237.32000699999998,
          237.25999500000003,
          255.36999500000002,
          258.27999900000003,
          260.399994,
          262.5,
          256.290009,
          264.910004,
          276.980011,
          280.369995,
          285.22000099999997,
          292.75,
          309.549988,
          315.649994,
          304.880005,
          302.22000099999997,
          313.850006,
          310.5,
          256.369995,
          277.72000099999997,
          248,
          228,
          212.61000099999998,
          236.899994,
          249.38000499999998,
          265.829987,
          265.429993,
          278.200012,
          286.320007,
          300.209991,
          310.320007,
          313.02999900000003
         ],
         "open": [
          128.380005,
          132.600006,
          130.279999,
          128.899994,
          126.099998,
          127.489998,
          125.459999,
          124.940002,
          125.029999,
          130.970001,
          123.089996,
          121.5,
          116.529999,
          116.040001,
          94.870003,
          112.029999,
          111.75,
          116.58000200000001,
          113.66999799999999,
          113.849998,
          109.879997,
          112.730003,
          110.800003,
          118.08000200000001,
          120.800003,
          120.959999,
          111.379997,
          119.269997,
          117.989998,
          118.980003,
          112.18,
          107.279999,
          107.589996,
          102.610001,
          98.970001,
          98.410004,
          101.519997,
          96.470001,
          93.129997,
          95.019997,
          96.309998,
          96.860001,
          102.389999,
          101.910004,
          105.93,
          106,
          110.41999799999999,
          108.970001,
          108.889999,
          105,
          93.970001,
          93,
          92.389999,
          95.870003,
          99.599998,
          97.989998,
          98.690002,
          96,
          93,
          95.389999,
          96.75,
          98.699997,
          98.25,
          104.410004,
          107.519997,
          108.139999,
          108.860001,
          106.620003,
          107.900002,
          102.650002,
          115.190002,
          111.639999,
          112.709999,
          115.019997,
          117.33000200000001,
          117.099998,
          113.650002,
          110.08000200000001,
          107.709999,
          110.120003,
          111.43,
          110,
          113.290001,
          115.800003,
          116.519997,
          115.800003,
          117.949997,
          118.339996,
          120,
          120.93,
          129.130005,
          133.080002,
          136.229996,
          137.139999,
          139.369995,
          138.850006,
          140.399994,
          139.389999,
          143.71000700000002,
          143.600006,
          141.479996,
          143.5,
          145.100006,
          149.029999,
          156.009995,
          154,
          153.419998,
          154.33999599999999,
          145.740005,
          143.66000400000001,
          147.169998,
          144.880005,
          144.110001,
          148.820007,
          150.580002,
          149.899994,
          157.059998,
          159.320007,
          157.5,
          160.139999,
          163.75,
          160.5,
          160.110001,
          149.990005,
          154.259995,
          155.809998,
          157.899994,
          156.889999,
          163.889999,
          172.369995,
          173.5,
          170.28999299999998,
          175.050003,
          172.479996,
          169.199997,
          174.880005,
          170.800003,
          170.16000400000001,
          174.350006,
          177.899994,
          177.300003,
          170.16000400000001,
          159.100006,
          158.5,
          172.050003,
          176.350006,
          175.21000700000002,
          180.28999299999998,
          177.320007,
          168.070007,
          166.639999,
          169.880005,
          175.029999,
          166.830002,
          162.130005,
          185.179993,
          189.009995,
          188,
          187.600006,
          191.639999,
          191.350006,
          187.880005,
          183.399994,
          183.820007,
          189.5,
          191.520004,
          190.679993,
          191.899994,
          208,
          209.309998,
          218.100006,
          217.149994,
          228.41000400000001,
          220.94999700000002,
          222.149994,
          216.82000699999998,
          227.94999700000002,
          222.210007,
          221.16000400000001,
          219.789993,
          219.190002,
          204.300003,
          199,
          190,
          174.240005,
          184.46000700000002,
          165,
          165.449997,
          148.149994,
          158.529999,
          148.699997,
          150.850006,
          156.41000400000001,
          155.78999299999998,
          167.41000400000001,
          171.050003,
          169.71000700000002,
          174.16000400000001,
          175.690002,
          175.490005,
          185.800003,
          191.509995,
          191.639999,
          196.419998,
          198.580002,
          202.830002,
          204.399994,
          204.28999299999998,
          187.71000700000002,
          183.520004,
          178.919998,
          175.600006,
          191.809998,
          192.899994,
          198.53999299999998,
          203.169998,
          200.809998,
          204.08999599999999,
          203.649994,
          208.46000700000002,
          197.990005,
          199.619995,
          210.61999500000002,
          205.860001,
          206.429993,
          214.83999599999999,
          217.729996,
          218.94999700000002,
          220.899994,
          226.270004,
          234.899994,
          237.520004,
          247.419998,
          257.329987,
          258.299988,
          265.799988,
          262.709991,
          267.269989,
          270,
          277,
          280.52999900000003,
          289.459991,
          293.790009,
          311.640015,
          317.190002,
          310.059998,
          304.299988,
          314.179993,
          315.359985,
          297.26001,
          282.27999900000003,
          263.75,
          241.94999700000002,
          228.080002,
          250.74000499999997,
          250.899994,
          268.309998,
          277.950012,
          281.799988,
          289.170013,
          308.100006,
          313.170013,
          315.02999900000003
         ],
         "type": "candlestick",
         "x": [
          "2015-05-18",
          "2015-05-25",
          "2015-06-01",
          "2015-06-08",
          "2015-06-15",
          "2015-06-22",
          "2015-06-29",
          "2015-07-06",
          "2015-07-13",
          "2015-07-20",
          "2015-07-27",
          "2015-08-03",
          "2015-08-10",
          "2015-08-17",
          "2015-08-24",
          "2015-08-31",
          "2015-09-07",
          "2015-09-14",
          "2015-09-21",
          "2015-09-28",
          "2015-10-05",
          "2015-10-12",
          "2015-10-19",
          "2015-10-26",
          "2015-11-02",
          "2015-11-09",
          "2015-11-16",
          "2015-11-23",
          "2015-11-30",
          "2015-12-07",
          "2015-12-14",
          "2015-12-21",
          "2015-12-28",
          "2016-01-04",
          "2016-01-11",
          "2016-01-18",
          "2016-01-25",
          "2016-02-01",
          "2016-02-08",
          "2016-02-15",
          "2016-02-22",
          "2016-02-29",
          "2016-03-07",
          "2016-03-14",
          "2016-03-21",
          "2016-03-28",
          "2016-04-04",
          "2016-04-11",
          "2016-04-18",
          "2016-04-25",
          "2016-05-02",
          "2016-05-09",
          "2016-05-16",
          "2016-05-23",
          "2016-05-30",
          "2016-06-06",
          "2016-06-13",
          "2016-06-20",
          "2016-06-27",
          "2016-07-04",
          "2016-07-11",
          "2016-07-18",
          "2016-07-25",
          "2016-08-01",
          "2016-08-08",
          "2016-08-15",
          "2016-08-22",
          "2016-08-29",
          "2016-09-05",
          "2016-09-12",
          "2016-09-19",
          "2016-09-26",
          "2016-10-03",
          "2016-10-10",
          "2016-10-17",
          "2016-10-24",
          "2016-10-31",
          "2016-11-07",
          "2016-11-14",
          "2016-11-21",
          "2016-11-28",
          "2016-12-05",
          "2016-12-12",
          "2016-12-19",
          "2016-12-26",
          "2017-01-02",
          "2017-01-09",
          "2017-01-16",
          "2017-01-23",
          "2017-01-30",
          "2017-02-06",
          "2017-02-13",
          "2017-02-20",
          "2017-02-27",
          "2017-03-06",
          "2017-03-13",
          "2017-03-20",
          "2017-03-27",
          "2017-04-03",
          "2017-04-10",
          "2017-04-17",
          "2017-04-24",
          "2017-05-01",
          "2017-05-08",
          "2017-05-15",
          "2017-05-22",
          "2017-05-29",
          "2017-06-05",
          "2017-06-12",
          "2017-06-19",
          "2017-06-26",
          "2017-07-03",
          "2017-07-10",
          "2017-07-17",
          "2017-07-24",
          "2017-07-31",
          "2017-08-07",
          "2017-08-14",
          "2017-08-21",
          "2017-08-28",
          "2017-09-04",
          "2017-09-11",
          "2017-09-18",
          "2017-09-25",
          "2017-10-02",
          "2017-10-09",
          "2017-10-16",
          "2017-10-23",
          "2017-10-30",
          "2017-11-06",
          "2017-11-13",
          "2017-11-20",
          "2017-11-27",
          "2017-12-04",
          "2017-12-11",
          "2017-12-18",
          "2017-12-25",
          "2018-01-01",
          "2018-01-08",
          "2018-01-15",
          "2018-01-22",
          "2018-01-29",
          "2018-02-05",
          "2018-02-12",
          "2018-02-19",
          "2018-02-26",
          "2018-03-05",
          "2018-03-12",
          "2018-03-19",
          "2018-03-26",
          "2018-04-02",
          "2018-04-09",
          "2018-04-16",
          "2018-04-23",
          "2018-04-30",
          "2018-05-07",
          "2018-05-14",
          "2018-05-21",
          "2018-05-28",
          "2018-06-04",
          "2018-06-11",
          "2018-06-18",
          "2018-06-25",
          "2018-07-02",
          "2018-07-09",
          "2018-07-16",
          "2018-07-23",
          "2018-07-30",
          "2018-08-06",
          "2018-08-13",
          "2018-08-20",
          "2018-08-27",
          "2018-09-03",
          "2018-09-10",
          "2018-09-17",
          "2018-09-24",
          "2018-10-01",
          "2018-10-08",
          "2018-10-15",
          "2018-10-22",
          "2018-10-29",
          "2018-11-05",
          "2018-11-12",
          "2018-11-19",
          "2018-11-26",
          "2018-12-03",
          "2018-12-10",
          "2018-12-17",
          "2018-12-24",
          "2018-12-31",
          "2019-01-07",
          "2019-01-14",
          "2019-01-21",
          "2019-01-28",
          "2019-02-04",
          "2019-02-11",
          "2019-02-18",
          "2019-02-25",
          "2019-03-04",
          "2019-03-11",
          "2019-03-18",
          "2019-03-25",
          "2019-04-01",
          "2019-04-08",
          "2019-04-15",
          "2019-04-22",
          "2019-04-29",
          "2019-05-06",
          "2019-05-13",
          "2019-05-20",
          "2019-05-27",
          "2019-06-03",
          "2019-06-10",
          "2019-06-17",
          "2019-06-24",
          "2019-07-01",
          "2019-07-08",
          "2019-07-15",
          "2019-07-22",
          "2019-07-29",
          "2019-08-05",
          "2019-08-12",
          "2019-08-19",
          "2019-08-26",
          "2019-09-02",
          "2019-09-09",
          "2019-09-16",
          "2019-09-23",
          "2019-09-30",
          "2019-10-07",
          "2019-10-14",
          "2019-10-21",
          "2019-10-28",
          "2019-11-04",
          "2019-11-11",
          "2019-11-18",
          "2019-11-25",
          "2019-12-02",
          "2019-12-09",
          "2019-12-16",
          "2019-12-23",
          "2019-12-30",
          "2020-01-06",
          "2020-01-13",
          "2020-01-20",
          "2020-01-27",
          "2020-02-03",
          "2020-02-10",
          "2020-02-17",
          "2020-02-24",
          "2020-03-02",
          "2020-03-09",
          "2020-03-16",
          "2020-03-23",
          "2020-03-30",
          "2020-04-06",
          "2020-04-13",
          "2020-04-20",
          "2020-04-27",
          "2020-05-04",
          "2020-05-11",
          "2020-05-18",
          "2020-05-19"
         ]
        }
       ],
       "layout": {
        "template": {
         "data": {
          "bar": [
           {
            "error_x": {
             "color": "#2a3f5f"
            },
            "error_y": {
             "color": "#2a3f5f"
            },
            "marker": {
             "line": {
              "color": "#E5ECF6",
              "width": 0.5
             }
            },
            "type": "bar"
           }
          ],
          "barpolar": [
           {
            "marker": {
             "line": {
              "color": "#E5ECF6",
              "width": 0.5
             }
            },
            "type": "barpolar"
           }
          ],
          "carpet": [
           {
            "aaxis": {
             "endlinecolor": "#2a3f5f",
             "gridcolor": "white",
             "linecolor": "white",
             "minorgridcolor": "white",
             "startlinecolor": "#2a3f5f"
            },
            "baxis": {
             "endlinecolor": "#2a3f5f",
             "gridcolor": "white",
             "linecolor": "white",
             "minorgridcolor": "white",
             "startlinecolor": "#2a3f5f"
            },
            "type": "carpet"
           }
          ],
          "choropleth": [
           {
            "colorbar": {
             "outlinewidth": 0,
             "ticks": ""
            },
            "type": "choropleth"
           }
          ],
          "contour": [
           {
            "colorbar": {
             "outlinewidth": 0,
             "ticks": ""
            },
            "colorscale": [
             [
              0,
              "#0d0887"
             ],
             [
              0.1111111111111111,
              "#46039f"
             ],
             [
              0.2222222222222222,
              "#7201a8"
             ],
             [
              0.3333333333333333,
              "#9c179e"
             ],
             [
              0.4444444444444444,
              "#bd3786"
             ],
             [
              0.5555555555555556,
              "#d8576b"
             ],
             [
              0.6666666666666666,
              "#ed7953"
             ],
             [
              0.7777777777777778,
              "#fb9f3a"
             ],
             [
              0.8888888888888888,
              "#fdca26"
             ],
             [
              1,
              "#f0f921"
             ]
            ],
            "type": "contour"
           }
          ],
          "contourcarpet": [
           {
            "colorbar": {
             "outlinewidth": 0,
             "ticks": ""
            },
            "type": "contourcarpet"
           }
          ],
          "heatmap": [
           {
            "colorbar": {
             "outlinewidth": 0,
             "ticks": ""
            },
            "colorscale": [
             [
              0,
              "#0d0887"
             ],
             [
              0.1111111111111111,
              "#46039f"
             ],
             [
              0.2222222222222222,
              "#7201a8"
             ],
             [
              0.3333333333333333,
              "#9c179e"
             ],
             [
              0.4444444444444444,
              "#bd3786"
             ],
             [
              0.5555555555555556,
              "#d8576b"
             ],
             [
              0.6666666666666666,
              "#ed7953"
             ],
             [
              0.7777777777777778,
              "#fb9f3a"
             ],
             [
              0.8888888888888888,
              "#fdca26"
             ],
             [
              1,
              "#f0f921"
             ]
            ],
            "type": "heatmap"
           }
          ],
          "heatmapgl": [
           {
            "colorbar": {
             "outlinewidth": 0,
             "ticks": ""
            },
            "colorscale": [
             [
              0,
              "#0d0887"
             ],
             [
              0.1111111111111111,
              "#46039f"
             ],
             [
              0.2222222222222222,
              "#7201a8"
             ],
             [
              0.3333333333333333,
              "#9c179e"
             ],
             [
              0.4444444444444444,
              "#bd3786"
             ],
             [
              0.5555555555555556,
              "#d8576b"
             ],
             [
              0.6666666666666666,
              "#ed7953"
             ],
             [
              0.7777777777777778,
              "#fb9f3a"
             ],
             [
              0.8888888888888888,
              "#fdca26"
             ],
             [
              1,
              "#f0f921"
             ]
            ],
            "type": "heatmapgl"
           }
          ],
          "histogram": [
           {
            "marker": {
             "colorbar": {
              "outlinewidth": 0,
              "ticks": ""
             }
            },
            "type": "histogram"
           }
          ],
          "histogram2d": [
           {
            "colorbar": {
             "outlinewidth": 0,
             "ticks": ""
            },
            "colorscale": [
             [
              0,
              "#0d0887"
             ],
             [
              0.1111111111111111,
              "#46039f"
             ],
             [
              0.2222222222222222,
              "#7201a8"
             ],
             [
              0.3333333333333333,
              "#9c179e"
             ],
             [
              0.4444444444444444,
              "#bd3786"
             ],
             [
              0.5555555555555556,
              "#d8576b"
             ],
             [
              0.6666666666666666,
              "#ed7953"
             ],
             [
              0.7777777777777778,
              "#fb9f3a"
             ],
             [
              0.8888888888888888,
              "#fdca26"
             ],
             [
              1,
              "#f0f921"
             ]
            ],
            "type": "histogram2d"
           }
          ],
          "histogram2dcontour": [
           {
            "colorbar": {
             "outlinewidth": 0,
             "ticks": ""
            },
            "colorscale": [
             [
              0,
              "#0d0887"
             ],
             [
              0.1111111111111111,
              "#46039f"
             ],
             [
              0.2222222222222222,
              "#7201a8"
             ],
             [
              0.3333333333333333,
              "#9c179e"
             ],
             [
              0.4444444444444444,
              "#bd3786"
             ],
             [
              0.5555555555555556,
              "#d8576b"
             ],
             [
              0.6666666666666666,
              "#ed7953"
             ],
             [
              0.7777777777777778,
              "#fb9f3a"
             ],
             [
              0.8888888888888888,
              "#fdca26"
             ],
             [
              1,
              "#f0f921"
             ]
            ],
            "type": "histogram2dcontour"
           }
          ],
          "mesh3d": [
           {
            "colorbar": {
             "outlinewidth": 0,
             "ticks": ""
            },
            "type": "mesh3d"
           }
          ],
          "parcoords": [
           {
            "line": {
             "colorbar": {
              "outlinewidth": 0,
              "ticks": ""
             }
            },
            "type": "parcoords"
           }
          ],
          "pie": [
           {
            "automargin": true,
            "type": "pie"
           }
          ],
          "scatter": [
           {
            "marker": {
             "colorbar": {
              "outlinewidth": 0,
              "ticks": ""
             }
            },
            "type": "scatter"
           }
          ],
          "scatter3d": [
           {
            "line": {
             "colorbar": {
              "outlinewidth": 0,
              "ticks": ""
             }
            },
            "marker": {
             "colorbar": {
              "outlinewidth": 0,
              "ticks": ""
             }
            },
            "type": "scatter3d"
           }
          ],
          "scattercarpet": [
           {
            "marker": {
             "colorbar": {
              "outlinewidth": 0,
              "ticks": ""
             }
            },
            "type": "scattercarpet"
           }
          ],
          "scattergeo": [
           {
            "marker": {
             "colorbar": {
              "outlinewidth": 0,
              "ticks": ""
             }
            },
            "type": "scattergeo"
           }
          ],
          "scattergl": [
           {
            "marker": {
             "colorbar": {
              "outlinewidth": 0,
              "ticks": ""
             }
            },
            "type": "scattergl"
           }
          ],
          "scattermapbox": [
           {
            "marker": {
             "colorbar": {
              "outlinewidth": 0,
              "ticks": ""
             }
            },
            "type": "scattermapbox"
           }
          ],
          "scatterpolar": [
           {
            "marker": {
             "colorbar": {
              "outlinewidth": 0,
              "ticks": ""
             }
            },
            "type": "scatterpolar"
           }
          ],
          "scatterpolargl": [
           {
            "marker": {
             "colorbar": {
              "outlinewidth": 0,
              "ticks": ""
             }
            },
            "type": "scatterpolargl"
           }
          ],
          "scatterternary": [
           {
            "marker": {
             "colorbar": {
              "outlinewidth": 0,
              "ticks": ""
             }
            },
            "type": "scatterternary"
           }
          ],
          "surface": [
           {
            "colorbar": {
             "outlinewidth": 0,
             "ticks": ""
            },
            "colorscale": [
             [
              0,
              "#0d0887"
             ],
             [
              0.1111111111111111,
              "#46039f"
             ],
             [
              0.2222222222222222,
              "#7201a8"
             ],
             [
              0.3333333333333333,
              "#9c179e"
             ],
             [
              0.4444444444444444,
              "#bd3786"
             ],
             [
              0.5555555555555556,
              "#d8576b"
             ],
             [
              0.6666666666666666,
              "#ed7953"
             ],
             [
              0.7777777777777778,
              "#fb9f3a"
             ],
             [
              0.8888888888888888,
              "#fdca26"
             ],
             [
              1,
              "#f0f921"
             ]
            ],
            "type": "surface"
           }
          ],
          "table": [
           {
            "cells": {
             "fill": {
              "color": "#EBF0F8"
             },
             "line": {
              "color": "white"
             }
            },
            "header": {
             "fill": {
              "color": "#C8D4E3"
             },
             "line": {
              "color": "white"
             }
            },
            "type": "table"
           }
          ]
         },
         "layout": {
          "annotationdefaults": {
           "arrowcolor": "#2a3f5f",
           "arrowhead": 0,
           "arrowwidth": 1
          },
          "coloraxis": {
           "colorbar": {
            "outlinewidth": 0,
            "ticks": ""
           }
          },
          "colorscale": {
           "diverging": [
            [
             0,
             "#8e0152"
            ],
            [
             0.1,
             "#c51b7d"
            ],
            [
             0.2,
             "#de77ae"
            ],
            [
             0.3,
             "#f1b6da"
            ],
            [
             0.4,
             "#fde0ef"
            ],
            [
             0.5,
             "#f7f7f7"
            ],
            [
             0.6,
             "#e6f5d0"
            ],
            [
             0.7,
             "#b8e186"
            ],
            [
             0.8,
             "#7fbc41"
            ],
            [
             0.9,
             "#4d9221"
            ],
            [
             1,
             "#276419"
            ]
           ],
           "sequential": [
            [
             0,
             "#0d0887"
            ],
            [
             0.1111111111111111,
             "#46039f"
            ],
            [
             0.2222222222222222,
             "#7201a8"
            ],
            [
             0.3333333333333333,
             "#9c179e"
            ],
            [
             0.4444444444444444,
             "#bd3786"
            ],
            [
             0.5555555555555556,
             "#d8576b"
            ],
            [
             0.6666666666666666,
             "#ed7953"
            ],
            [
             0.7777777777777778,
             "#fb9f3a"
            ],
            [
             0.8888888888888888,
             "#fdca26"
            ],
            [
             1,
             "#f0f921"
            ]
           ],
           "sequentialminus": [
            [
             0,
             "#0d0887"
            ],
            [
             0.1111111111111111,
             "#46039f"
            ],
            [
             0.2222222222222222,
             "#7201a8"
            ],
            [
             0.3333333333333333,
             "#9c179e"
            ],
            [
             0.4444444444444444,
             "#bd3786"
            ],
            [
             0.5555555555555556,
             "#d8576b"
            ],
            [
             0.6666666666666666,
             "#ed7953"
            ],
            [
             0.7777777777777778,
             "#fb9f3a"
            ],
            [
             0.8888888888888888,
             "#fdca26"
            ],
            [
             1,
             "#f0f921"
            ]
           ]
          },
          "colorway": [
           "#636efa",
           "#EF553B",
           "#00cc96",
           "#ab63fa",
           "#FFA15A",
           "#19d3f3",
           "#FF6692",
           "#B6E880",
           "#FF97FF",
           "#FECB52"
          ],
          "font": {
           "color": "#2a3f5f"
          },
          "geo": {
           "bgcolor": "white",
           "lakecolor": "white",
           "landcolor": "#E5ECF6",
           "showlakes": true,
           "showland": true,
           "subunitcolor": "white"
          },
          "hoverlabel": {
           "align": "left"
          },
          "hovermode": "closest",
          "mapbox": {
           "style": "light"
          },
          "paper_bgcolor": "white",
          "plot_bgcolor": "#E5ECF6",
          "polar": {
           "angularaxis": {
            "gridcolor": "white",
            "linecolor": "white",
            "ticks": ""
           },
           "bgcolor": "#E5ECF6",
           "radialaxis": {
            "gridcolor": "white",
            "linecolor": "white",
            "ticks": ""
           }
          },
          "scene": {
           "xaxis": {
            "backgroundcolor": "#E5ECF6",
            "gridcolor": "white",
            "gridwidth": 2,
            "linecolor": "white",
            "showbackground": true,
            "ticks": "",
            "zerolinecolor": "white"
           },
           "yaxis": {
            "backgroundcolor": "#E5ECF6",
            "gridcolor": "white",
            "gridwidth": 2,
            "linecolor": "white",
            "showbackground": true,
            "ticks": "",
            "zerolinecolor": "white"
           },
           "zaxis": {
            "backgroundcolor": "#E5ECF6",
            "gridcolor": "white",
            "gridwidth": 2,
            "linecolor": "white",
            "showbackground": true,
            "ticks": "",
            "zerolinecolor": "white"
           }
          },
          "shapedefaults": {
           "line": {
            "color": "#2a3f5f"
           }
          },
          "ternary": {
           "aaxis": {
            "gridcolor": "white",
            "linecolor": "white",
            "ticks": ""
           },
           "baxis": {
            "gridcolor": "white",
            "linecolor": "white",
            "ticks": ""
           },
           "bgcolor": "#E5ECF6",
           "caxis": {
            "gridcolor": "white",
            "linecolor": "white",
            "ticks": ""
           }
          },
          "title": {
           "x": 0.05
          },
          "xaxis": {
           "automargin": true,
           "gridcolor": "white",
           "linecolor": "white",
           "ticks": "",
           "title": {
            "standoff": 15
           },
           "zerolinecolor": "white",
           "zerolinewidth": 2
          },
          "yaxis": {
           "automargin": true,
           "gridcolor": "white",
           "linecolor": "white",
           "ticks": "",
           "title": {
            "standoff": 15
           },
           "zerolinecolor": "white",
           "zerolinewidth": 2
          }
         }
        },
        "xaxis": {
         "rangeslider": {
          "visible": false
         }
        }
       }
      },
      "text/html": [
       "<div>\n",
       "        \n",
       "        \n",
       "            <div id=\"5893067c-3eca-4fd3-a915-05df6394cf11\" class=\"plotly-graph-div\" style=\"height:525px; width:100%;\"></div>\n",
       "            <script type=\"text/javascript\">\n",
       "                require([\"plotly\"], function(Plotly) {\n",
       "                    window.PLOTLYENV=window.PLOTLYENV || {};\n",
       "                    \n",
       "                if (document.getElementById(\"5893067c-3eca-4fd3-a915-05df6394cf11\")) {\n",
       "                    Plotly.newPlot(\n",
       "                        '5893067c-3eca-4fd3-a915-05df6394cf11',\n",
       "                        [{\"close\": [132.53999299999998, 130.279999, 128.649994, 127.16999799999999, 126.599998, 126.75, 126.440002, 123.279999, 129.619995, 124.5, 121.300003, 115.519997, 115.959999, 105.760002, 113.290001, 109.269997, 114.209999, 113.449997, 114.709999, 110.379997, 112.120003, 111.040001, 119.08000200000001, 119.5, 121.059998, 112.339996, 119.300003, 117.809998, 119.029999, 113.18, 106.029999, 108.029999, 105.260002, 96.959999, 97.129997, 101.41999799999999, 97.339996, 94.019997, 93.989998, 96.040001, 96.910004, 103.010002, 102.260002, 105.91999799999999, 105.66999799999999, 109.989998, 108.660004, 109.849998, 105.68, 93.739998, 92.720001, 90.519997, 95.220001, 100.349998, 97.91999799999999, 98.83000200000001, 95.33000200000001, 93.400002, 95.889999, 96.68, 98.779999, 98.660004, 104.209999, 107.480003, 108.18, 109.360001, 106.940002, 107.730003, 103.129997, 114.91999799999999, 112.709999, 113.050003, 114.059998, 117.629997, 116.599998, 113.720001, 108.839996, 108.43, 110.059998, 111.790001, 109.900002, 113.949997, 115.970001, 116.519997, 115.82, 117.910004, 119.040001, 120.0, 121.949997, 129.080002, 132.119995, 135.720001, 136.66000400000001, 139.779999, 139.139999, 139.990005, 140.639999, 143.66000400000001, 143.33999599999999, 141.050003, 142.270004, 143.649994, 148.96000700000002, 156.100006, 153.059998, 153.610001, 155.449997, 148.979996, 142.270004, 146.279999, 144.020004, 144.179993, 149.03999299999998, 150.270004, 149.5, 156.389999, 157.479996, 157.5, 159.860001, 164.050003, 158.630005, 159.880005, 151.889999, 154.119995, 155.300003, 156.990005, 156.25, 163.050003, 172.5, 174.669998, 170.149994, 174.970001, 171.050003, 169.369995, 173.970001, 175.009995, 169.229996, 175.0, 177.08999599999999, 178.46000700000002, 171.509995, 160.5, 156.41000400000001, 172.429993, 175.5, 176.21000700000002, 179.979996, 178.020004, 164.940002, 167.779999, 168.380005, 174.729996, 165.720001, 162.320007, 183.830002, 188.58999599999999, 186.309998, 188.580002, 190.240005, 191.699997, 188.83999599999999, 184.919998, 185.110001, 187.970001, 191.330002, 191.440002, 190.979996, 207.990005, 207.529999, 217.580002, 216.16000400000001, 227.63000499999998, 221.30000299999998, 223.83999599999999, 217.66000400000001, 225.74000499999997, 224.289993, 222.11000099999998, 219.309998, 216.30000299999998, 207.479996, 204.470001, 193.529999, 172.28999299999998, 178.580002, 168.490005, 165.479996, 150.729996, 156.229996, 148.259995, 152.28999299999998, 156.820007, 157.759995, 166.520004, 170.41000400000001, 170.419998, 172.970001, 174.970001, 172.91000400000001, 186.119995, 191.050003, 189.949997, 197.0, 198.869995, 203.860001, 204.300003, 211.75, 197.179993, 189.0, 178.970001, 175.070007, 190.149994, 192.740005, 198.779999, 197.919998, 204.229996, 203.300003, 202.58999599999999, 207.740005, 204.020004, 200.990005, 206.5, 202.639999, 208.740005, 213.25999500000003, 218.75, 217.729996, 218.82000699999998, 227.00999500000003, 236.210007, 236.41000400000001, 246.580002, 255.82000699999998, 260.140015, 265.76001, 261.77999900000003, 267.25, 270.709991, 275.149994, 279.440002, 289.799988, 297.429993, 310.329987, 318.730011, 318.309998, 309.51001, 320.02999900000003, 324.950012, 313.049988, 273.359985, 289.02999900000003, 277.97000099999997, 229.24000499999997, 247.74000499999997, 241.41000400000001, 267.98999, 282.799988, 282.97000099999997, 289.070007, 310.130005, 307.709991, 314.959991, 313.140015], \"high\": [132.970001, 132.91000400000001, 131.389999, 130.179993, 128.309998, 129.800003, 126.940002, 126.230003, 129.619995, 132.970001, 123.910004, 122.57, 119.989998, 117.650002, 113.309998, 114.529999, 114.209999, 116.889999, 116.690002, 114.57, 112.279999, 112.75, 119.230003, 121.220001, 123.82, 121.809998, 119.91999799999999, 119.730003, 119.410004, 119.860001, 112.800003, 109.0, 109.43, 105.849998, 101.190002, 101.459999, 101.529999, 97.33000200000001, 96.349998, 98.889999, 98.019997, 103.75, 102.83000200000001, 106.5, 107.650002, 110.41999799999999, 112.190002, 112.389999, 108.949997, 105.650002, 95.900002, 93.769997, 95.43, 100.730003, 100.400002, 101.889999, 99.120003, 96.889999, 96.470001, 96.889999, 99.300003, 101.0, 104.550003, 107.650002, 108.940002, 110.230003, 109.32, 108.0, 108.760002, 116.129997, 116.18, 114.639999, 114.559998, 118.690002, 118.209999, 118.360001, 114.230003, 111.720001, 110.540001, 112.41999799999999, 112.470001, 114.699997, 116.730003, 117.5, 118.019997, 118.160004, 119.93, 120.5, 122.440002, 130.490005, 132.940002, 136.270004, 137.479996, 140.279999, 139.979996, 141.020004, 142.800003, 144.5, 145.46000700000002, 143.880005, 142.919998, 144.899994, 148.979996, 156.419998, 156.649994, 154.899994, 155.449997, 155.979996, 147.5, 147.16000400000001, 148.279999, 145.300003, 149.330002, 151.740005, 153.990005, 159.75, 161.830002, 162.509995, 160.740005, 164.940002, 164.25, 163.96000700000002, 160.5, 154.720001, 155.490005, 158.0, 160.869995, 163.600006, 174.259995, 176.240005, 174.5, 175.5, 175.080002, 172.619995, 174.169998, 177.199997, 171.850006, 175.369995, 177.360001, 180.100006, 179.440002, 170.16000400000001, 163.880005, 174.820007, 175.649994, 180.619995, 180.0, 183.5, 177.470001, 175.149994, 174.229996, 175.83999599999999, 178.940002, 166.919998, 184.25, 190.369995, 189.529999, 189.649994, 190.259995, 194.199997, 192.880005, 189.220001, 187.279999, 188.429993, 191.83999599999999, 192.649994, 195.96000700000002, 208.740005, 209.77999900000003, 217.94999700000002, 219.17999300000002, 228.86999500000002, 229.669998, 228.350006, 222.94999700000002, 226.440002, 233.47000099999997, 227.270004, 222.99000499999997, 224.229996, 222.36000099999998, 210.11999500000002, 199.850006, 190.699997, 182.800003, 184.940002, 172.570007, 168.350006, 158.520004, 159.360001, 154.529999, 157.880005, 158.130005, 169.0, 175.570007, 172.479996, 173.320007, 175.869995, 177.75, 187.330002, 197.690002, 192.880005, 197.100006, 202.850006, 204.149994, 208.479996, 215.309998, 208.83999599999999, 192.470001, 188.0, 180.58999599999999, 191.919998, 196.78999299999998, 200.850006, 201.570007, 205.080002, 204.389999, 206.5, 209.729996, 221.36999500000002, 203.529999, 212.13999900000002, 214.440002, 210.44999700000002, 214.419998, 226.419998, 223.75999500000003, 222.49000499999997, 228.22000099999997, 237.63999900000002, 238.13000499999998, 246.729996, 255.92999300000002, 260.440002, 265.77999900000003, 268.0, 268.0, 271.0, 275.299988, 282.649994, 293.97000099999997, 300.600006, 312.670013, 318.73999, 323.329987, 327.850006, 325.22000099999997, 327.22000099999997, 324.649994, 304.179993, 304.0, 286.440002, 259.079987, 258.679993, 262.48999, 271.700012, 288.25, 283.01001, 299.0, 310.350006, 319.690002, 316.5, 318.519989], \"low\": [128.360001, 129.119995, 128.360001, 125.620003, 125.709999, 126.510002, 124.480003, 119.220001, 124.32, 121.989998, 120.910004, 112.099998, 109.629997, 105.650002, 92.0, 107.360001, 109.769997, 111.870003, 112.370003, 107.309998, 108.209999, 109.559998, 110.110001, 113.989998, 119.610001, 112.269997, 111.0, 117.120003, 114.220001, 112.849998, 105.809998, 105.57, 104.82, 96.43, 95.360001, 93.41999799999999, 92.389999, 93.690002, 92.589996, 94.610001, 93.32, 96.650002, 100.150002, 101.779999, 104.889999, 104.879997, 108.120003, 108.660004, 104.620003, 92.510002, 91.849998, 89.470001, 91.650002, 95.66999799999999, 96.629997, 97.550003, 95.300003, 92.650002, 91.5, 94.370003, 96.730003, 98.309998, 96.41999799999999, 104.0, 107.160004, 108.08000200000001, 106.309998, 105.5, 103.129997, 102.529999, 111.550003, 111.550003, 112.279999, 114.720001, 113.800003, 113.309998, 108.110001, 105.83000200000001, 104.08000200000001, 110.010002, 108.849998, 108.25, 112.489998, 115.589996, 115.43, 114.760002, 117.940002, 118.220001, 119.5, 120.620003, 128.899994, 132.75, 135.279999, 136.279999, 137.050003, 138.820007, 139.729996, 138.619995, 143.050003, 140.059998, 140.449997, 143.179993, 144.270004, 149.029999, 149.71000700000002, 152.669998, 152.220001, 146.020004, 142.199997, 143.66000400000001, 142.279999, 142.41000400000001, 143.369995, 148.570007, 147.300003, 148.130005, 154.630005, 156.720001, 155.110001, 159.929993, 158.529999, 157.91000400000001, 150.559998, 149.16000400000001, 152.46000700000002, 155.100006, 155.020004, 155.270004, 163.720001, 171.720001, 168.380005, 169.559998, 167.16000400000001, 166.46000700000002, 168.78999299999998, 173.25, 169.220001, 169.259995, 173.0, 175.070007, 170.059998, 160.100006, 150.240005, 157.509995, 171.009995, 172.449997, 174.270004, 177.619995, 164.940002, 165.190002, 164.470001, 169.850006, 165.429993, 160.630005, 161.83999599999999, 183.669998, 185.100006, 185.759995, 186.139999, 189.770004, 188.259995, 183.449997, 180.729996, 183.419998, 187.610001, 189.199997, 189.559998, 189.070007, 204.520004, 207.699997, 213.83999599999999, 216.330002, 220.710007, 216.47000099999997, 215.30000299999998, 216.63000499999998, 220.580002, 212.32000699999998, 213.0, 212.669998, 205.429993, 198.169998, 185.929993, 172.100006, 170.259995, 168.300003, 163.330002, 149.630005, 146.58999599999999, 142.0, 145.899994, 149.220001, 151.699997, 153.66000400000001, 167.279999, 169.25, 169.490005, 172.729996, 169.5, 175.350006, 184.729996, 184.580002, 188.380005, 196.21000700000002, 198.009995, 202.119995, 199.110001, 192.770004, 182.850006, 177.809998, 174.990005, 170.270004, 190.300003, 192.169998, 195.28999299999998, 200.649994, 198.41000400000001, 202.360001, 203.610001, 201.630005, 192.580002, 199.149994, 201.0, 203.320007, 204.220001, 211.07000699999998, 217.47000099999997, 217.13999900000002, 215.13000499999998, 224.330002, 233.19999700000002, 237.32000699999998, 237.25999500000003, 255.36999500000002, 258.27999900000003, 260.399994, 262.5, 256.290009, 264.910004, 276.980011, 280.369995, 285.22000099999997, 292.75, 309.549988, 315.649994, 304.880005, 302.22000099999997, 313.850006, 310.5, 256.369995, 277.72000099999997, 248.0, 228.0, 212.61000099999998, 236.899994, 249.38000499999998, 265.829987, 265.429993, 278.200012, 286.320007, 300.209991, 310.320007, 313.02999900000003], \"open\": [128.380005, 132.600006, 130.279999, 128.899994, 126.099998, 127.489998, 125.459999, 124.940002, 125.029999, 130.970001, 123.089996, 121.5, 116.529999, 116.040001, 94.870003, 112.029999, 111.75, 116.58000200000001, 113.66999799999999, 113.849998, 109.879997, 112.730003, 110.800003, 118.08000200000001, 120.800003, 120.959999, 111.379997, 119.269997, 117.989998, 118.980003, 112.18, 107.279999, 107.589996, 102.610001, 98.970001, 98.410004, 101.519997, 96.470001, 93.129997, 95.019997, 96.309998, 96.860001, 102.389999, 101.910004, 105.93, 106.0, 110.41999799999999, 108.970001, 108.889999, 105.0, 93.970001, 93.0, 92.389999, 95.870003, 99.599998, 97.989998, 98.690002, 96.0, 93.0, 95.389999, 96.75, 98.699997, 98.25, 104.410004, 107.519997, 108.139999, 108.860001, 106.620003, 107.900002, 102.650002, 115.190002, 111.639999, 112.709999, 115.019997, 117.33000200000001, 117.099998, 113.650002, 110.08000200000001, 107.709999, 110.120003, 111.43, 110.0, 113.290001, 115.800003, 116.519997, 115.800003, 117.949997, 118.339996, 120.0, 120.93, 129.130005, 133.080002, 136.229996, 137.139999, 139.369995, 138.850006, 140.399994, 139.389999, 143.71000700000002, 143.600006, 141.479996, 143.5, 145.100006, 149.029999, 156.009995, 154.0, 153.419998, 154.33999599999999, 145.740005, 143.66000400000001, 147.169998, 144.880005, 144.110001, 148.820007, 150.580002, 149.899994, 157.059998, 159.320007, 157.5, 160.139999, 163.75, 160.5, 160.110001, 149.990005, 154.259995, 155.809998, 157.899994, 156.889999, 163.889999, 172.369995, 173.5, 170.28999299999998, 175.050003, 172.479996, 169.199997, 174.880005, 170.800003, 170.16000400000001, 174.350006, 177.899994, 177.300003, 170.16000400000001, 159.100006, 158.5, 172.050003, 176.350006, 175.21000700000002, 180.28999299999998, 177.320007, 168.070007, 166.639999, 169.880005, 175.029999, 166.830002, 162.130005, 185.179993, 189.009995, 188.0, 187.600006, 191.639999, 191.350006, 187.880005, 183.399994, 183.820007, 189.5, 191.520004, 190.679993, 191.899994, 208.0, 209.309998, 218.100006, 217.149994, 228.41000400000001, 220.94999700000002, 222.149994, 216.82000699999998, 227.94999700000002, 222.210007, 221.16000400000001, 219.789993, 219.190002, 204.300003, 199.0, 190.0, 174.240005, 184.46000700000002, 165.0, 165.449997, 148.149994, 158.529999, 148.699997, 150.850006, 156.41000400000001, 155.78999299999998, 167.41000400000001, 171.050003, 169.71000700000002, 174.16000400000001, 175.690002, 175.490005, 185.800003, 191.509995, 191.639999, 196.419998, 198.580002, 202.830002, 204.399994, 204.28999299999998, 187.71000700000002, 183.520004, 178.919998, 175.600006, 191.809998, 192.899994, 198.53999299999998, 203.169998, 200.809998, 204.08999599999999, 203.649994, 208.46000700000002, 197.990005, 199.619995, 210.61999500000002, 205.860001, 206.429993, 214.83999599999999, 217.729996, 218.94999700000002, 220.899994, 226.270004, 234.899994, 237.520004, 247.419998, 257.329987, 258.299988, 265.799988, 262.709991, 267.269989, 270.0, 277.0, 280.52999900000003, 289.459991, 293.790009, 311.640015, 317.190002, 310.059998, 304.299988, 314.179993, 315.359985, 297.26001, 282.27999900000003, 263.75, 241.94999700000002, 228.080002, 250.74000499999997, 250.899994, 268.309998, 277.950012, 281.799988, 289.170013, 308.100006, 313.170013, 315.02999900000003], \"type\": \"candlestick\", \"x\": [\"2015-05-18\", \"2015-05-25\", \"2015-06-01\", \"2015-06-08\", \"2015-06-15\", \"2015-06-22\", \"2015-06-29\", \"2015-07-06\", \"2015-07-13\", \"2015-07-20\", \"2015-07-27\", \"2015-08-03\", \"2015-08-10\", \"2015-08-17\", \"2015-08-24\", \"2015-08-31\", \"2015-09-07\", \"2015-09-14\", \"2015-09-21\", \"2015-09-28\", \"2015-10-05\", \"2015-10-12\", \"2015-10-19\", \"2015-10-26\", \"2015-11-02\", \"2015-11-09\", \"2015-11-16\", \"2015-11-23\", \"2015-11-30\", \"2015-12-07\", \"2015-12-14\", \"2015-12-21\", \"2015-12-28\", \"2016-01-04\", \"2016-01-11\", \"2016-01-18\", \"2016-01-25\", \"2016-02-01\", \"2016-02-08\", \"2016-02-15\", \"2016-02-22\", \"2016-02-29\", \"2016-03-07\", \"2016-03-14\", \"2016-03-21\", \"2016-03-28\", \"2016-04-04\", \"2016-04-11\", \"2016-04-18\", \"2016-04-25\", \"2016-05-02\", \"2016-05-09\", \"2016-05-16\", \"2016-05-23\", \"2016-05-30\", \"2016-06-06\", \"2016-06-13\", \"2016-06-20\", \"2016-06-27\", \"2016-07-04\", \"2016-07-11\", \"2016-07-18\", \"2016-07-25\", \"2016-08-01\", \"2016-08-08\", \"2016-08-15\", \"2016-08-22\", \"2016-08-29\", \"2016-09-05\", \"2016-09-12\", \"2016-09-19\", \"2016-09-26\", \"2016-10-03\", \"2016-10-10\", \"2016-10-17\", \"2016-10-24\", \"2016-10-31\", \"2016-11-07\", \"2016-11-14\", \"2016-11-21\", \"2016-11-28\", \"2016-12-05\", \"2016-12-12\", \"2016-12-19\", \"2016-12-26\", \"2017-01-02\", \"2017-01-09\", \"2017-01-16\", \"2017-01-23\", \"2017-01-30\", \"2017-02-06\", \"2017-02-13\", \"2017-02-20\", \"2017-02-27\", \"2017-03-06\", \"2017-03-13\", \"2017-03-20\", \"2017-03-27\", \"2017-04-03\", \"2017-04-10\", \"2017-04-17\", \"2017-04-24\", \"2017-05-01\", \"2017-05-08\", \"2017-05-15\", \"2017-05-22\", \"2017-05-29\", \"2017-06-05\", \"2017-06-12\", \"2017-06-19\", \"2017-06-26\", \"2017-07-03\", \"2017-07-10\", \"2017-07-17\", \"2017-07-24\", \"2017-07-31\", \"2017-08-07\", \"2017-08-14\", \"2017-08-21\", \"2017-08-28\", \"2017-09-04\", \"2017-09-11\", \"2017-09-18\", \"2017-09-25\", \"2017-10-02\", \"2017-10-09\", \"2017-10-16\", \"2017-10-23\", \"2017-10-30\", \"2017-11-06\", \"2017-11-13\", \"2017-11-20\", \"2017-11-27\", \"2017-12-04\", \"2017-12-11\", \"2017-12-18\", \"2017-12-25\", \"2018-01-01\", \"2018-01-08\", \"2018-01-15\", \"2018-01-22\", \"2018-01-29\", \"2018-02-05\", \"2018-02-12\", \"2018-02-19\", \"2018-02-26\", \"2018-03-05\", \"2018-03-12\", \"2018-03-19\", \"2018-03-26\", \"2018-04-02\", \"2018-04-09\", \"2018-04-16\", \"2018-04-23\", \"2018-04-30\", \"2018-05-07\", \"2018-05-14\", \"2018-05-21\", \"2018-05-28\", \"2018-06-04\", \"2018-06-11\", \"2018-06-18\", \"2018-06-25\", \"2018-07-02\", \"2018-07-09\", \"2018-07-16\", \"2018-07-23\", \"2018-07-30\", \"2018-08-06\", \"2018-08-13\", \"2018-08-20\", \"2018-08-27\", \"2018-09-03\", \"2018-09-10\", \"2018-09-17\", \"2018-09-24\", \"2018-10-01\", \"2018-10-08\", \"2018-10-15\", \"2018-10-22\", \"2018-10-29\", \"2018-11-05\", \"2018-11-12\", \"2018-11-19\", \"2018-11-26\", \"2018-12-03\", \"2018-12-10\", \"2018-12-17\", \"2018-12-24\", \"2018-12-31\", \"2019-01-07\", \"2019-01-14\", \"2019-01-21\", \"2019-01-28\", \"2019-02-04\", \"2019-02-11\", \"2019-02-18\", \"2019-02-25\", \"2019-03-04\", \"2019-03-11\", \"2019-03-18\", \"2019-03-25\", \"2019-04-01\", \"2019-04-08\", \"2019-04-15\", \"2019-04-22\", \"2019-04-29\", \"2019-05-06\", \"2019-05-13\", \"2019-05-20\", \"2019-05-27\", \"2019-06-03\", \"2019-06-10\", \"2019-06-17\", \"2019-06-24\", \"2019-07-01\", \"2019-07-08\", \"2019-07-15\", \"2019-07-22\", \"2019-07-29\", \"2019-08-05\", \"2019-08-12\", \"2019-08-19\", \"2019-08-26\", \"2019-09-02\", \"2019-09-09\", \"2019-09-16\", \"2019-09-23\", \"2019-09-30\", \"2019-10-07\", \"2019-10-14\", \"2019-10-21\", \"2019-10-28\", \"2019-11-04\", \"2019-11-11\", \"2019-11-18\", \"2019-11-25\", \"2019-12-02\", \"2019-12-09\", \"2019-12-16\", \"2019-12-23\", \"2019-12-30\", \"2020-01-06\", \"2020-01-13\", \"2020-01-20\", \"2020-01-27\", \"2020-02-03\", \"2020-02-10\", \"2020-02-17\", \"2020-02-24\", \"2020-03-02\", \"2020-03-09\", \"2020-03-16\", \"2020-03-23\", \"2020-03-30\", \"2020-04-06\", \"2020-04-13\", \"2020-04-20\", \"2020-04-27\", \"2020-05-04\", \"2020-05-11\", \"2020-05-18\", \"2020-05-19\"]}],\n",
       "                        {\"template\": {\"data\": {\"bar\": [{\"error_x\": {\"color\": \"#2a3f5f\"}, \"error_y\": {\"color\": \"#2a3f5f\"}, \"marker\": {\"line\": {\"color\": \"#E5ECF6\", \"width\": 0.5}}, \"type\": \"bar\"}], \"barpolar\": [{\"marker\": {\"line\": {\"color\": \"#E5ECF6\", \"width\": 0.5}}, \"type\": \"barpolar\"}], \"carpet\": [{\"aaxis\": {\"endlinecolor\": \"#2a3f5f\", \"gridcolor\": \"white\", \"linecolor\": \"white\", \"minorgridcolor\": \"white\", \"startlinecolor\": \"#2a3f5f\"}, \"baxis\": {\"endlinecolor\": \"#2a3f5f\", \"gridcolor\": \"white\", \"linecolor\": \"white\", \"minorgridcolor\": \"white\", \"startlinecolor\": \"#2a3f5f\"}, \"type\": \"carpet\"}], \"choropleth\": [{\"colorbar\": {\"outlinewidth\": 0, \"ticks\": \"\"}, \"type\": \"choropleth\"}], \"contour\": [{\"colorbar\": {\"outlinewidth\": 0, \"ticks\": \"\"}, \"colorscale\": [[0.0, \"#0d0887\"], [0.1111111111111111, \"#46039f\"], [0.2222222222222222, \"#7201a8\"], [0.3333333333333333, \"#9c179e\"], [0.4444444444444444, \"#bd3786\"], [0.5555555555555556, \"#d8576b\"], [0.6666666666666666, \"#ed7953\"], [0.7777777777777778, \"#fb9f3a\"], [0.8888888888888888, \"#fdca26\"], [1.0, \"#f0f921\"]], \"type\": \"contour\"}], \"contourcarpet\": [{\"colorbar\": {\"outlinewidth\": 0, \"ticks\": \"\"}, \"type\": \"contourcarpet\"}], \"heatmap\": [{\"colorbar\": {\"outlinewidth\": 0, \"ticks\": \"\"}, \"colorscale\": [[0.0, \"#0d0887\"], [0.1111111111111111, \"#46039f\"], [0.2222222222222222, \"#7201a8\"], [0.3333333333333333, \"#9c179e\"], [0.4444444444444444, \"#bd3786\"], [0.5555555555555556, \"#d8576b\"], [0.6666666666666666, \"#ed7953\"], [0.7777777777777778, \"#fb9f3a\"], [0.8888888888888888, \"#fdca26\"], [1.0, \"#f0f921\"]], \"type\": \"heatmap\"}], \"heatmapgl\": [{\"colorbar\": {\"outlinewidth\": 0, \"ticks\": \"\"}, \"colorscale\": [[0.0, \"#0d0887\"], [0.1111111111111111, \"#46039f\"], [0.2222222222222222, \"#7201a8\"], [0.3333333333333333, \"#9c179e\"], [0.4444444444444444, \"#bd3786\"], [0.5555555555555556, \"#d8576b\"], [0.6666666666666666, \"#ed7953\"], [0.7777777777777778, \"#fb9f3a\"], [0.8888888888888888, \"#fdca26\"], [1.0, \"#f0f921\"]], \"type\": \"heatmapgl\"}], \"histogram\": [{\"marker\": {\"colorbar\": {\"outlinewidth\": 0, \"ticks\": \"\"}}, \"type\": \"histogram\"}], \"histogram2d\": [{\"colorbar\": {\"outlinewidth\": 0, \"ticks\": \"\"}, \"colorscale\": [[0.0, \"#0d0887\"], [0.1111111111111111, \"#46039f\"], [0.2222222222222222, \"#7201a8\"], [0.3333333333333333, \"#9c179e\"], [0.4444444444444444, \"#bd3786\"], [0.5555555555555556, \"#d8576b\"], [0.6666666666666666, \"#ed7953\"], [0.7777777777777778, \"#fb9f3a\"], [0.8888888888888888, \"#fdca26\"], [1.0, \"#f0f921\"]], \"type\": \"histogram2d\"}], \"histogram2dcontour\": [{\"colorbar\": {\"outlinewidth\": 0, \"ticks\": \"\"}, \"colorscale\": [[0.0, \"#0d0887\"], [0.1111111111111111, \"#46039f\"], [0.2222222222222222, \"#7201a8\"], [0.3333333333333333, \"#9c179e\"], [0.4444444444444444, \"#bd3786\"], [0.5555555555555556, \"#d8576b\"], [0.6666666666666666, \"#ed7953\"], [0.7777777777777778, \"#fb9f3a\"], [0.8888888888888888, \"#fdca26\"], [1.0, \"#f0f921\"]], \"type\": \"histogram2dcontour\"}], \"mesh3d\": [{\"colorbar\": {\"outlinewidth\": 0, \"ticks\": \"\"}, \"type\": \"mesh3d\"}], \"parcoords\": [{\"line\": {\"colorbar\": {\"outlinewidth\": 0, \"ticks\": \"\"}}, \"type\": \"parcoords\"}], \"pie\": [{\"automargin\": true, \"type\": \"pie\"}], \"scatter\": [{\"marker\": {\"colorbar\": {\"outlinewidth\": 0, \"ticks\": \"\"}}, \"type\": \"scatter\"}], \"scatter3d\": [{\"line\": {\"colorbar\": {\"outlinewidth\": 0, \"ticks\": \"\"}}, \"marker\": {\"colorbar\": {\"outlinewidth\": 0, \"ticks\": \"\"}}, \"type\": \"scatter3d\"}], \"scattercarpet\": [{\"marker\": {\"colorbar\": {\"outlinewidth\": 0, \"ticks\": \"\"}}, \"type\": \"scattercarpet\"}], \"scattergeo\": [{\"marker\": {\"colorbar\": {\"outlinewidth\": 0, \"ticks\": \"\"}}, \"type\": \"scattergeo\"}], \"scattergl\": [{\"marker\": {\"colorbar\": {\"outlinewidth\": 0, \"ticks\": \"\"}}, \"type\": \"scattergl\"}], \"scattermapbox\": [{\"marker\": {\"colorbar\": {\"outlinewidth\": 0, \"ticks\": \"\"}}, \"type\": \"scattermapbox\"}], \"scatterpolar\": [{\"marker\": {\"colorbar\": {\"outlinewidth\": 0, \"ticks\": \"\"}}, \"type\": \"scatterpolar\"}], \"scatterpolargl\": [{\"marker\": {\"colorbar\": {\"outlinewidth\": 0, \"ticks\": \"\"}}, \"type\": \"scatterpolargl\"}], \"scatterternary\": [{\"marker\": {\"colorbar\": {\"outlinewidth\": 0, \"ticks\": \"\"}}, \"type\": \"scatterternary\"}], \"surface\": [{\"colorbar\": {\"outlinewidth\": 0, \"ticks\": \"\"}, \"colorscale\": [[0.0, \"#0d0887\"], [0.1111111111111111, \"#46039f\"], [0.2222222222222222, \"#7201a8\"], [0.3333333333333333, \"#9c179e\"], [0.4444444444444444, \"#bd3786\"], [0.5555555555555556, \"#d8576b\"], [0.6666666666666666, \"#ed7953\"], [0.7777777777777778, \"#fb9f3a\"], [0.8888888888888888, \"#fdca26\"], [1.0, \"#f0f921\"]], \"type\": \"surface\"}], \"table\": [{\"cells\": {\"fill\": {\"color\": \"#EBF0F8\"}, \"line\": {\"color\": \"white\"}}, \"header\": {\"fill\": {\"color\": \"#C8D4E3\"}, \"line\": {\"color\": \"white\"}}, \"type\": \"table\"}]}, \"layout\": {\"annotationdefaults\": {\"arrowcolor\": \"#2a3f5f\", \"arrowhead\": 0, \"arrowwidth\": 1}, \"coloraxis\": {\"colorbar\": {\"outlinewidth\": 0, \"ticks\": \"\"}}, \"colorscale\": {\"diverging\": [[0, \"#8e0152\"], [0.1, \"#c51b7d\"], [0.2, \"#de77ae\"], [0.3, \"#f1b6da\"], [0.4, \"#fde0ef\"], [0.5, \"#f7f7f7\"], [0.6, \"#e6f5d0\"], [0.7, \"#b8e186\"], [0.8, \"#7fbc41\"], [0.9, \"#4d9221\"], [1, \"#276419\"]], \"sequential\": [[0.0, \"#0d0887\"], [0.1111111111111111, \"#46039f\"], [0.2222222222222222, \"#7201a8\"], [0.3333333333333333, \"#9c179e\"], [0.4444444444444444, \"#bd3786\"], [0.5555555555555556, \"#d8576b\"], [0.6666666666666666, \"#ed7953\"], [0.7777777777777778, \"#fb9f3a\"], [0.8888888888888888, \"#fdca26\"], [1.0, \"#f0f921\"]], \"sequentialminus\": [[0.0, \"#0d0887\"], [0.1111111111111111, \"#46039f\"], [0.2222222222222222, \"#7201a8\"], [0.3333333333333333, \"#9c179e\"], [0.4444444444444444, \"#bd3786\"], [0.5555555555555556, \"#d8576b\"], [0.6666666666666666, \"#ed7953\"], [0.7777777777777778, \"#fb9f3a\"], [0.8888888888888888, \"#fdca26\"], [1.0, \"#f0f921\"]]}, \"colorway\": [\"#636efa\", \"#EF553B\", \"#00cc96\", \"#ab63fa\", \"#FFA15A\", \"#19d3f3\", \"#FF6692\", \"#B6E880\", \"#FF97FF\", \"#FECB52\"], \"font\": {\"color\": \"#2a3f5f\"}, \"geo\": {\"bgcolor\": \"white\", \"lakecolor\": \"white\", \"landcolor\": \"#E5ECF6\", \"showlakes\": true, \"showland\": true, \"subunitcolor\": \"white\"}, \"hoverlabel\": {\"align\": \"left\"}, \"hovermode\": \"closest\", \"mapbox\": {\"style\": \"light\"}, \"paper_bgcolor\": \"white\", \"plot_bgcolor\": \"#E5ECF6\", \"polar\": {\"angularaxis\": {\"gridcolor\": \"white\", \"linecolor\": \"white\", \"ticks\": \"\"}, \"bgcolor\": \"#E5ECF6\", \"radialaxis\": {\"gridcolor\": \"white\", \"linecolor\": \"white\", \"ticks\": \"\"}}, \"scene\": {\"xaxis\": {\"backgroundcolor\": \"#E5ECF6\", \"gridcolor\": \"white\", \"gridwidth\": 2, \"linecolor\": \"white\", \"showbackground\": true, \"ticks\": \"\", \"zerolinecolor\": \"white\"}, \"yaxis\": {\"backgroundcolor\": \"#E5ECF6\", \"gridcolor\": \"white\", \"gridwidth\": 2, \"linecolor\": \"white\", \"showbackground\": true, \"ticks\": \"\", \"zerolinecolor\": \"white\"}, \"zaxis\": {\"backgroundcolor\": \"#E5ECF6\", \"gridcolor\": \"white\", \"gridwidth\": 2, \"linecolor\": \"white\", \"showbackground\": true, \"ticks\": \"\", \"zerolinecolor\": \"white\"}}, \"shapedefaults\": {\"line\": {\"color\": \"#2a3f5f\"}}, \"ternary\": {\"aaxis\": {\"gridcolor\": \"white\", \"linecolor\": \"white\", \"ticks\": \"\"}, \"baxis\": {\"gridcolor\": \"white\", \"linecolor\": \"white\", \"ticks\": \"\"}, \"bgcolor\": \"#E5ECF6\", \"caxis\": {\"gridcolor\": \"white\", \"linecolor\": \"white\", \"ticks\": \"\"}}, \"title\": {\"x\": 0.05}, \"xaxis\": {\"automargin\": true, \"gridcolor\": \"white\", \"linecolor\": \"white\", \"ticks\": \"\", \"title\": {\"standoff\": 15}, \"zerolinecolor\": \"white\", \"zerolinewidth\": 2}, \"yaxis\": {\"automargin\": true, \"gridcolor\": \"white\", \"linecolor\": \"white\", \"ticks\": \"\", \"title\": {\"standoff\": 15}, \"zerolinecolor\": \"white\", \"zerolinewidth\": 2}}}, \"xaxis\": {\"rangeslider\": {\"visible\": false}}},\n",
       "                        {\"responsive\": true}\n",
       "                    ).then(function(){\n",
       "                            \n",
       "var gd = document.getElementById('5893067c-3eca-4fd3-a915-05df6394cf11');\n",
       "var x = new MutationObserver(function (mutations, observer) {{\n",
       "        var display = window.getComputedStyle(gd).display;\n",
       "        if (!display || display === 'none') {{\n",
       "            console.log([gd, 'removed!']);\n",
       "            Plotly.purge(gd);\n",
       "            observer.disconnect();\n",
       "        }}\n",
       "}});\n",
       "\n",
       "// Listen for the removal of the full notebook cells\n",
       "var notebookContainer = gd.closest('#notebook-container');\n",
       "if (notebookContainer) {{\n",
       "    x.observe(notebookContainer, {childList: true});\n",
       "}}\n",
       "\n",
       "// Listen for the clearing of the current output cell\n",
       "var outputEl = gd.closest('.output');\n",
       "if (outputEl) {{\n",
       "    x.observe(outputEl, {childList: true});\n",
       "}}\n",
       "\n",
       "                        })\n",
       "                };\n",
       "                });\n",
       "            </script>\n",
       "        </div>"
      ]
     },
     "metadata": {},
     "output_type": "display_data"
    },
    {
     "name": "stdout",
     "output_type": "stream",
     "text": [
      "None None\n",
      "None None\n",
      "None None\n",
      "None None\n",
      "None None\n",
      "None None\n",
      "None None\n",
      "None None\n",
      "None None\n",
      "None None\n",
      "None None\n",
      "None None\n",
      "None None\n",
      "None None\n",
      "None None\n",
      "None None\n",
      "None None\n",
      "None None\n",
      "None None\n",
      "None None\n",
      "None None\n",
      "None None\n",
      "None None\n",
      "None None\n",
      "None None\n",
      "None None\n",
      "None None\n",
      "None None\n",
      "None None\n",
      "None None\n",
      "None None\n",
      "None None\n",
      "None None\n",
      "None None\n",
      "None None\n",
      "None None\n",
      "None None\n",
      "None None\n",
      "None None\n",
      "None None\n",
      "None None\n",
      "None None\n",
      "None None\n",
      "None None\n",
      "None None\n",
      "None None\n",
      "None None\n",
      "None None\n",
      "None None\n",
      "None None\n",
      "None None\n",
      "None None\n",
      "None None\n",
      "None None\n",
      "None None\n",
      "None None\n",
      "None None\n",
      "None None\n",
      "None None\n",
      "None None\n",
      "None None\n",
      "None None\n",
      "None None\n",
      "None None\n",
      "None None\n",
      "None None\n",
      "None None\n",
      "None None\n",
      "None None\n",
      "None None\n",
      "None None\n",
      "None None\n",
      "None None\n",
      "None None\n",
      "None None\n",
      "None None\n"
     ]
    }
   ],
   "source": [
    "import plotly.graph_objects as go\n",
    "import matplotlib\n",
    "import pandas as pd\n",
    "from datetime import datetime\n",
    "\n",
    "df = pd.read_csv('AAPL.csv')\n",
    "\n",
    "def mouse_move(event):\n",
    "    x, y = event.xdata, event.ydata\n",
    "    print(x, y)\n",
    "\n",
    "\n",
    "plt.connect('motion_notify_event', mouse_move)\n",
    "\n",
    "\n",
    "fig = go.Figure(data=[go.Candlestick(x=df.Date,open=df.Open,\n",
    "                high=df.High,\n",
    "                low=df.Low,\n",
    "                close=df.Close)])\n",
    "\n",
    "\n",
    "\n",
    "fig.update_layout(xaxis_rangeslider_visible=False)\n",
    "\n",
    "fig.show()"
   ]
  },
  {
   "cell_type": "code",
   "execution_count": null,
   "metadata": {},
   "outputs": [],
   "source": []
  },
  {
   "cell_type": "code",
   "execution_count": 11,
   "metadata": {},
   "outputs": [
    {
     "data": {
      "image/png": "[encoded data removed]",
      "text/plain": [
       "<Figure size 432x288 with 1 Axes>"
      ]
     },
     "metadata": {
      "needs_background": "light"
     },
     "output_type": "display_data"
    }
   ],
   "source": [
    "import numpy as np\n",
    "import matplotlib.pyplot as plt\n",
    "\n",
    "N = 50\n",
    "x = [1,2,3,4,5,6,7,8,9,10]\n",
    "y = [11,12,13,14,15,16,17,18,19,20]\n",
    "\n",
    "plt.scatter(x, y)\n",
    "plt.show()"
   ]
  },
  {
   "cell_type": "code",
   "execution_count": 12,
   "metadata": {},
   "outputs": [
    {
     "data": {
      "image/png": "[encoded data removed]",
      "text/plain": [
       "<Figure size 432x288 with 1 Axes>"
      ]
     },
     "metadata": {
      "needs_background": "light"
     },
     "output_type": "display_data"
    }
   ],
   "source": [
    "import matplotlib.pyplot as plt\n",
    "import numpy as np\n",
    "\n",
    "\n",
    "def plot_unit_circle():\n",
    "    angs = np.linspace(0, 2 * np.pi, 10**6)\n",
    "    rs = np.zeros_like(angs) + 1\n",
    "    xs = rs * np.cos(angs)\n",
    "    ys = rs * np.sin(angs)\n",
    "    plt.plot(xs, ys)\n",
    "\n",
    "\n",
    "def mouse_move(event):\n",
    "    x, y = event.xdata, event.ydata\n",
    "    print(x, y)\n",
    "\n",
    "\n",
    "plt.connect('motion_notify_event', mouse_move)\n",
    "plot_unit_circle()\n",
    "plt.axis('equal')\n",
    "plt.show()"
   ]
  },
  {
   "cell_type": "code",
   "execution_count": 9,
   "metadata": {},
   "outputs": [
    {
     "data": {
      "image/png": "[encoded data removed]",
      "text/plain": [
       "<Figure size 432x288 with 1 Axes>"
      ]
     },
     "metadata": {
      "needs_background": "light"
     },
     "output_type": "display_data"
    },
    {
     "data": {
      "image/png": "[encoded data removed]",
      "text/plain": [
       "<Figure size 432x288 with 1 Axes>"
      ]
     },
     "metadata": {
      "needs_background": "light"
     },
     "output_type": "display_data"
    }
   ],
   "source": [
    "import matplotlib.pyplot as plt\n",
    "import numpy as np\n",
    "\n",
    "\n",
    "class Cursor(object):\n",
    "    def __init__(self, ax):\n",
    "        self.ax = ax\n",
    "        self.lx = ax.axhline(color='k')  # the horiz line\n",
    "        self.ly = ax.axvline(color='k')  # the vert line\n",
    "\n",
    "        # text location in axes coords\n",
    "        self.txt = ax.text(0.7, 0.9, '', transform=ax.transAxes)\n",
    "\n",
    "    def mouse_move(self, event):\n",
    "        if not event.inaxes:\n",
    "            return\n",
    "\n",
    "        x, y = event.xdata, event.ydata\n",
    "        # update the line positions\n",
    "        self.lx.set_ydata(y)\n",
    "        self.ly.set_xdata(x)\n",
    "\n",
    "        self.txt.set_text('x=%1.2f, y=%1.2f' % (x, y))\n",
    "        self.ax.figure.canvas.draw()\n",
    "\n",
    "\n",
    "class SnaptoCursor(object):\n",
    "    \"\"\"\n",
    "    Like Cursor but the crosshair snaps to the nearest x, y point.\n",
    "    For simplicity, this assumes that *x* is sorted.\n",
    "    \"\"\"\n",
    "\n",
    "    def __init__(self, ax, x, y):\n",
    "        self.ax = ax\n",
    "        self.lx = ax.axhline(color='k')  # the horiz line\n",
    "        self.ly = ax.axvline(color='k')  # the vert line\n",
    "        self.x = x\n",
    "        self.y = y\n",
    "        # text location in axes coords\n",
    "        self.txt = ax.text(0.7, 0.9, '', transform=ax.transAxes)\n",
    "\n",
    "    def mouse_move(self, event):\n",
    "        if not event.inaxes:\n",
    "            return\n",
    "\n",
    "        x, y = event.xdata, event.ydata\n",
    "        indx = min(np.searchsorted(self.x, x), len(self.x) - 1)\n",
    "        x = self.x[indx]\n",
    "        y = self.y[indx]\n",
    "        # update the line positions\n",
    "        self.lx.set_ydata(y)\n",
    "        self.ly.set_xdata(x)\n",
    "\n",
    "        self.txt.set_text('x=%1.2f, y=%1.2f' % (x, y))\n",
    "        print('x=%1.2f, y=%1.2f' % (x, y))\n",
    "        self.ax.figure.canvas.draw()\n",
    "\n",
    "\n",
    "t = np.arange(0.0, 1.0, 0.01)\n",
    "s = np.sin(2 * 2 * np.pi * t)\n",
    "\n",
    "fig, ax = plt.subplots()\n",
    "ax.plot(t, s, 'o')\n",
    "cursor = Cursor(ax)\n",
    "fig.canvas.mpl_connect('motion_notify_event', cursor.mouse_move)\n",
    "\n",
    "fig, ax = plt.subplots()\n",
    "ax.plot(t, s, 'o')\n",
    "snap_cursor = SnaptoCursor(ax, t, s)\n",
    "fig.canvas.mpl_connect('motion_notify_event', snap_cursor.mouse_move)\n",
    "\n",
    "plt.show()"
   ]
  },
  {
   "cell_type": "code",
   "execution_count": 17,
   "metadata": {},
   "outputs": [
    {
     "name": "stdout",
     "output_type": "stream",
     "text": [
      "Using matplotlib backend: Qt5Agg\n",
      "[-2.         -1.78947368 -1.57894737 -1.36842105 -1.15789474 -0.94736842\n",
      " -0.73684211 -0.52631579 -0.31578947 -0.10526316  0.10526316  0.31578947\n",
      "  0.52631579  0.73684211  0.94736842  1.15789474  1.36842105  1.57894737\n",
      "  1.78947368  2.        ] [[-2.        ]\n",
      " [-1.78947368]\n",
      " [-1.57894737]\n",
      " [-1.36842105]\n",
      " [-1.15789474]\n",
      " [-0.94736842]\n",
      " [-0.73684211]\n",
      " [-0.52631579]\n",
      " [-0.31578947]\n",
      " [-0.10526316]\n",
      " [ 0.10526316]\n",
      " [ 0.31578947]\n",
      " [ 0.52631579]\n",
      " [ 0.73684211]\n",
      " [ 0.94736842]\n",
      " [ 1.15789474]\n",
      " [ 1.36842105]\n",
      " [ 1.57894737]\n",
      " [ 1.78947368]\n",
      " [ 2.        ]]\n"
     ]
    },
    {
     "ename": "TypeError",
     "evalue": "Object of type ndarray is not JSON serializable",
     "output_type": "error",
     "traceback": [
      "\u001b[1;31m---------------------------------------------------------------------------\u001b[0m",
      "\u001b[1;31mTypeError\u001b[0m                                 Traceback (most recent call last)",
      "\u001b[1;32m<ipython-input-17-70a02b08449a>\u001b[0m in \u001b[0;36m<module>\u001b[1;34m\u001b[0m\n\u001b[0;32m     25\u001b[0m \u001b[0mplugins\u001b[0m\u001b[1;33m.\u001b[0m\u001b[0mconnect\u001b[0m\u001b[1;33m(\u001b[0m\u001b[0mfig\u001b[0m\u001b[1;33m,\u001b[0m \u001b[0mplugins\u001b[0m\u001b[1;33m.\u001b[0m\u001b[0mMousePosition\u001b[0m\u001b[1;33m(\u001b[0m\u001b[0mfontsize\u001b[0m\u001b[1;33m=\u001b[0m\u001b[1;36m14\u001b[0m\u001b[1;33m)\u001b[0m\u001b[1;33m)\u001b[0m\u001b[1;33m\u001b[0m\u001b[1;33m\u001b[0m\u001b[0m\n\u001b[0;32m     26\u001b[0m \u001b[1;33m\u001b[0m\u001b[0m\n\u001b[1;32m---> 27\u001b[1;33m \u001b[0mmpld3\u001b[0m\u001b[1;33m.\u001b[0m\u001b[0mshow\u001b[0m\u001b[1;33m(\u001b[0m\u001b[1;33m)\u001b[0m\u001b[1;33m\u001b[0m\u001b[1;33m\u001b[0m\u001b[0m\n\u001b[0m",
      "\u001b[1;32m~\\anaconda3\\lib\\site-packages\\mpld3\\_display.py\u001b[0m in \u001b[0;36mshow\u001b[1;34m(fig, ip, port, n_retries, local, open_browser, http_server, **kwargs)\u001b[0m\n\u001b[0;32m    356\u001b[0m         \u001b[1;32mimport\u001b[0m \u001b[0mmatplotlib\u001b[0m\u001b[1;33m.\u001b[0m\u001b[0mpyplot\u001b[0m \u001b[1;32mas\u001b[0m \u001b[0mplt\u001b[0m\u001b[1;33m\u001b[0m\u001b[1;33m\u001b[0m\u001b[0m\n\u001b[0;32m    357\u001b[0m         \u001b[0mfig\u001b[0m \u001b[1;33m=\u001b[0m \u001b[0mplt\u001b[0m\u001b[1;33m.\u001b[0m\u001b[0mgcf\u001b[0m\u001b[1;33m(\u001b[0m\u001b[1;33m)\u001b[0m\u001b[1;33m\u001b[0m\u001b[1;33m\u001b[0m\u001b[0m\n\u001b[1;32m--> 358\u001b[1;33m     \u001b[0mhtml\u001b[0m \u001b[1;33m=\u001b[0m \u001b[0mfig_to_html\u001b[0m\u001b[1;33m(\u001b[0m\u001b[0mfig\u001b[0m\u001b[1;33m,\u001b[0m \u001b[1;33m**\u001b[0m\u001b[0mkwargs\u001b[0m\u001b[1;33m)\u001b[0m\u001b[1;33m\u001b[0m\u001b[1;33m\u001b[0m\u001b[0m\n\u001b[0m\u001b[0;32m    359\u001b[0m     serve(html, ip=ip, port=port, n_retries=n_retries, files=files,\n\u001b[0;32m    360\u001b[0m           open_browser=open_browser, http_server=http_server)\n",
      "\u001b[1;32m~\\anaconda3\\lib\\site-packages\\mpld3\\_display.py\u001b[0m in \u001b[0;36mfig_to_html\u001b[1;34m(fig, d3_url, mpld3_url, no_extras, template_type, figid, use_http, **kwargs)\u001b[0m\n\u001b[0;32m    249\u001b[0m                            \u001b[0md3_url\u001b[0m\u001b[1;33m=\u001b[0m\u001b[0md3_url\u001b[0m\u001b[1;33m,\u001b[0m\u001b[1;33m\u001b[0m\u001b[1;33m\u001b[0m\u001b[0m\n\u001b[0;32m    250\u001b[0m                            \u001b[0mmpld3_url\u001b[0m\u001b[1;33m=\u001b[0m\u001b[0mmpld3_url\u001b[0m\u001b[1;33m,\u001b[0m\u001b[1;33m\u001b[0m\u001b[1;33m\u001b[0m\u001b[0m\n\u001b[1;32m--> 251\u001b[1;33m                            \u001b[0mfigure_json\u001b[0m\u001b[1;33m=\u001b[0m\u001b[0mjson\u001b[0m\u001b[1;33m.\u001b[0m\u001b[0mdumps\u001b[0m\u001b[1;33m(\u001b[0m\u001b[0mfigure_json\u001b[0m\u001b[1;33m,\u001b[0m \u001b[0mcls\u001b[0m\u001b[1;33m=\u001b[0m\u001b[0mNumpyEncoder\u001b[0m\u001b[1;33m)\u001b[0m\u001b[1;33m,\u001b[0m\u001b[1;33m\u001b[0m\u001b[1;33m\u001b[0m\u001b[0m\n\u001b[0m\u001b[0;32m    252\u001b[0m                            \u001b[0mextra_css\u001b[0m\u001b[1;33m=\u001b[0m\u001b[0mextra_css\u001b[0m\u001b[1;33m,\u001b[0m\u001b[1;33m\u001b[0m\u001b[1;33m\u001b[0m\u001b[0m\n\u001b[0;32m    253\u001b[0m                            extra_js=extra_js)\n",
      "\u001b[1;32m~\\anaconda3\\lib\\json\\__init__.py\u001b[0m in \u001b[0;36mdumps\u001b[1;34m(obj, skipkeys, ensure_ascii, check_circular, allow_nan, cls, indent, separators, default, sort_keys, **kw)\u001b[0m\n\u001b[0;32m    236\u001b[0m         \u001b[0mcheck_circular\u001b[0m\u001b[1;33m=\u001b[0m\u001b[0mcheck_circular\u001b[0m\u001b[1;33m,\u001b[0m \u001b[0mallow_nan\u001b[0m\u001b[1;33m=\u001b[0m\u001b[0mallow_nan\u001b[0m\u001b[1;33m,\u001b[0m \u001b[0mindent\u001b[0m\u001b[1;33m=\u001b[0m\u001b[0mindent\u001b[0m\u001b[1;33m,\u001b[0m\u001b[1;33m\u001b[0m\u001b[1;33m\u001b[0m\u001b[0m\n\u001b[0;32m    237\u001b[0m         \u001b[0mseparators\u001b[0m\u001b[1;33m=\u001b[0m\u001b[0mseparators\u001b[0m\u001b[1;33m,\u001b[0m \u001b[0mdefault\u001b[0m\u001b[1;33m=\u001b[0m\u001b[0mdefault\u001b[0m\u001b[1;33m,\u001b[0m \u001b[0msort_keys\u001b[0m\u001b[1;33m=\u001b[0m\u001b[0msort_keys\u001b[0m\u001b[1;33m,\u001b[0m\u001b[1;33m\u001b[0m\u001b[1;33m\u001b[0m\u001b[0m\n\u001b[1;32m--> 238\u001b[1;33m         **kw).encode(obj)\n\u001b[0m\u001b[0;32m    239\u001b[0m \u001b[1;33m\u001b[0m\u001b[0m\n\u001b[0;32m    240\u001b[0m \u001b[1;33m\u001b[0m\u001b[0m\n",
      "\u001b[1;32m~\\anaconda3\\lib\\json\\encoder.py\u001b[0m in \u001b[0;36mencode\u001b[1;34m(self, o)\u001b[0m\n\u001b[0;32m    197\u001b[0m         \u001b[1;31m# exceptions aren't as detailed.  The list call should be roughly\u001b[0m\u001b[1;33m\u001b[0m\u001b[1;33m\u001b[0m\u001b[1;33m\u001b[0m\u001b[0m\n\u001b[0;32m    198\u001b[0m         \u001b[1;31m# equivalent to the PySequence_Fast that ''.join() would do.\u001b[0m\u001b[1;33m\u001b[0m\u001b[1;33m\u001b[0m\u001b[1;33m\u001b[0m\u001b[0m\n\u001b[1;32m--> 199\u001b[1;33m         \u001b[0mchunks\u001b[0m \u001b[1;33m=\u001b[0m \u001b[0mself\u001b[0m\u001b[1;33m.\u001b[0m\u001b[0miterencode\u001b[0m\u001b[1;33m(\u001b[0m\u001b[0mo\u001b[0m\u001b[1;33m,\u001b[0m \u001b[0m_one_shot\u001b[0m\u001b[1;33m=\u001b[0m\u001b[1;32mTrue\u001b[0m\u001b[1;33m)\u001b[0m\u001b[1;33m\u001b[0m\u001b[1;33m\u001b[0m\u001b[0m\n\u001b[0m\u001b[0;32m    200\u001b[0m         \u001b[1;32mif\u001b[0m \u001b[1;32mnot\u001b[0m \u001b[0misinstance\u001b[0m\u001b[1;33m(\u001b[0m\u001b[0mchunks\u001b[0m\u001b[1;33m,\u001b[0m \u001b[1;33m(\u001b[0m\u001b[0mlist\u001b[0m\u001b[1;33m,\u001b[0m \u001b[0mtuple\u001b[0m\u001b[1;33m)\u001b[0m\u001b[1;33m)\u001b[0m\u001b[1;33m:\u001b[0m\u001b[1;33m\u001b[0m\u001b[1;33m\u001b[0m\u001b[0m\n\u001b[0;32m    201\u001b[0m             \u001b[0mchunks\u001b[0m \u001b[1;33m=\u001b[0m \u001b[0mlist\u001b[0m\u001b[1;33m(\u001b[0m\u001b[0mchunks\u001b[0m\u001b[1;33m)\u001b[0m\u001b[1;33m\u001b[0m\u001b[1;33m\u001b[0m\u001b[0m\n",
      "\u001b[1;32m~\\anaconda3\\lib\\json\\encoder.py\u001b[0m in \u001b[0;36miterencode\u001b[1;34m(self, o, _one_shot)\u001b[0m\n\u001b[0;32m    255\u001b[0m                 \u001b[0mself\u001b[0m\u001b[1;33m.\u001b[0m\u001b[0mkey_separator\u001b[0m\u001b[1;33m,\u001b[0m \u001b[0mself\u001b[0m\u001b[1;33m.\u001b[0m\u001b[0mitem_separator\u001b[0m\u001b[1;33m,\u001b[0m \u001b[0mself\u001b[0m\u001b[1;33m.\u001b[0m\u001b[0msort_keys\u001b[0m\u001b[1;33m,\u001b[0m\u001b[1;33m\u001b[0m\u001b[1;33m\u001b[0m\u001b[0m\n\u001b[0;32m    256\u001b[0m                 self.skipkeys, _one_shot)\n\u001b[1;32m--> 257\u001b[1;33m         \u001b[1;32mreturn\u001b[0m \u001b[0m_iterencode\u001b[0m\u001b[1;33m(\u001b[0m\u001b[0mo\u001b[0m\u001b[1;33m,\u001b[0m \u001b[1;36m0\u001b[0m\u001b[1;33m)\u001b[0m\u001b[1;33m\u001b[0m\u001b[1;33m\u001b[0m\u001b[0m\n\u001b[0m\u001b[0;32m    258\u001b[0m \u001b[1;33m\u001b[0m\u001b[0m\n\u001b[0;32m    259\u001b[0m def _make_iterencode(markers, _default, _encoder, _indent, _floatstr,\n",
      "\u001b[1;32m~\\anaconda3\\lib\\site-packages\\mpld3\\_display.py\u001b[0m in \u001b[0;36mdefault\u001b[1;34m(self, obj)\u001b[0m\n\u001b[0;32m    136\u001b[0m             numpy.float64)):\n\u001b[0;32m    137\u001b[0m             \u001b[1;32mreturn\u001b[0m \u001b[0mfloat\u001b[0m\u001b[1;33m(\u001b[0m\u001b[0mobj\u001b[0m\u001b[1;33m)\u001b[0m\u001b[1;33m\u001b[0m\u001b[1;33m\u001b[0m\u001b[0m\n\u001b[1;32m--> 138\u001b[1;33m         \u001b[1;32mreturn\u001b[0m \u001b[0mjson\u001b[0m\u001b[1;33m.\u001b[0m\u001b[0mJSONEncoder\u001b[0m\u001b[1;33m.\u001b[0m\u001b[0mdefault\u001b[0m\u001b[1;33m(\u001b[0m\u001b[0mself\u001b[0m\u001b[1;33m,\u001b[0m \u001b[0mobj\u001b[0m\u001b[1;33m)\u001b[0m\u001b[1;33m\u001b[0m\u001b[1;33m\u001b[0m\u001b[0m\n\u001b[0m\u001b[0;32m    139\u001b[0m \u001b[1;33m\u001b[0m\u001b[0m\n\u001b[0;32m    140\u001b[0m \u001b[1;33m\u001b[0m\u001b[0m\n",
      "\u001b[1;32m~\\anaconda3\\lib\\json\\encoder.py\u001b[0m in \u001b[0;36mdefault\u001b[1;34m(self, o)\u001b[0m\n\u001b[0;32m    177\u001b[0m \u001b[1;33m\u001b[0m\u001b[0m\n\u001b[0;32m    178\u001b[0m         \"\"\"\n\u001b[1;32m--> 179\u001b[1;33m         raise TypeError(f'Object of type {o.__class__.__name__} '\n\u001b[0m\u001b[0;32m    180\u001b[0m                         f'is not JSON serializable')\n\u001b[0;32m    181\u001b[0m \u001b[1;33m\u001b[0m\u001b[0m\n",
      "\u001b[1;31mTypeError\u001b[0m: Object of type ndarray is not JSON serializable"
     ]
    }
   ],
   "source": [
    "import matplotlib.pyplot as plt\n",
    "import numpy as np\n",
    "%matplotlib\n",
    "import mpld3\n",
    "from mpld3 import plugins\n",
    "\n",
    "fig, ax = plt.subplots()\n",
    "\n",
    "x = np.linspace(-2, 2, 20)\n",
    "y = x[:, None]\n",
    "X = np.zeros((20, 20, 4))\n",
    "\n",
    "\n",
    "X[:, :, 0] = np.exp(- (x - 1) ** 2 - (y) ** 2)\n",
    "X[:, :, 1] = np.exp(- (x + 0.71) ** 2 - (y - 0.71) ** 2)\n",
    "X[:, :, 2] = np.exp(- (x + 0.71) ** 2 - (y + 0.71) ** 2)\n",
    "X[:, :, 3] = np.exp(-0.25 * (x ** 2 + y ** 2))\n",
    "\n",
    "im = ax.imshow(X, extent=(10, 20, 10, 20),\n",
    "               origin='lower', zorder=1, interpolation='nearest')\n",
    "fig.colorbar(im, ax=ax)\n",
    "\n",
    "ax.set_title('An Image', size=20)\n",
    "\n",
    "plugins.connect(fig, plugins.MousePosition(fontsize=14))\n",
    "\n",
    "mpld3.show()"
   ]
  },
  {
   "cell_type": "code",
   "execution_count": 15,
   "metadata": {},
   "outputs": [
    {
     "name": "stdout",
     "output_type": "stream",
     "text": [
      "Using matplotlib backend: Qt5Agg\n"
     ]
    }
   ],
   "source": [
    "import matplotlib.pyplot as plt\n",
    "import numpy as np\n",
    "import mplcursors\n",
    "%matplotlib\n",
    "data = np.outer(range(10), range(1, 5))\n",
    "\n",
    "fig, ax = plt.subplots()\n",
    "lines = ax.plot(data)\n",
    "ax.set_title(\"Click somewhere on a line.\\nRight-click to deselect.\\n\"\n",
    "             \"Annotations can be dragged.\")\n",
    "\n",
    "mplcursors.cursor(lines) # or just mplcursors.cursor()\n",
    "\n",
    "plt.show()"
   ]
  },
  {
   "cell_type": "code",
   "execution_count": null,
   "metadata": {},
   "outputs": [],
   "source": []
  }
 ],
 "metadata": {
  "kernelspec": {
   "display_name": "Python 3",
   "language": "python",
   "name": "python3"
  },
  "language_info": {
   "codemirror_mode": {
    "name": "ipython",
    "version": 3
   },
   "file_extension": ".py",
   "mimetype": "text/x-python",
   "name": "python",
   "nbconvert_exporter": "python",
   "pygments_lexer": "ipython3",
   "version": "3.7.6"
  }
 },
 "nbformat": 4,
 "nbformat_minor": 4
}
