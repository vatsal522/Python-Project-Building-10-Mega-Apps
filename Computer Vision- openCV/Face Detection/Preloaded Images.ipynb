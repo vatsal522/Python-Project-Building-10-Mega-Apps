{
 "cells": [
  {
   "cell_type": "code",
   "execution_count": 10,
   "metadata": {},
   "outputs": [
    {
     "name": "stdout",
     "output_type": "stream",
     "text": [
      "<class 'numpy.ndarray'>\n",
      "[[398 287  29  29]\n",
      " [868 128 287 287]]\n"
     ]
    }
   ],
   "source": [
    "import cv2\n",
    "\n",
    "face_cascade=cv2.CascadeClassifier(\"haarcascade_frontalface_default.xml\")#we import the haarcascade file.\n",
    "#haarcascade file has preloaded data for eyes,nose,mouth,face etc.\n",
    "\n",
    "\n",
    "img=cv2.imread(\"abcd.jpg\")#better to use grayscale for img analysis as it is more accurate\n",
    "gray_img=cv2.cvtColor(img,cv2.COLOR_BGR2GRAY) #converted the img from BGR to GRAYSCALE\n",
    "\n",
    "\n",
    "faces=face_cascade.detectMultiScale(gray_img,scaleFactor=1.2,minNeighbors=5)#.05 means the img will reduce in size by 5%\n",
    "#lower the value, higher is th accuracy but higher accuracy, slower execution time\n",
    "\n",
    "print(type(faces))\n",
    "print(faces) # x y width height\n",
    "\n",
    "\n",
    "for x,y,w,h in faces:\n",
    "    img=cv2.rectangle(img,(x,y),(x+w,y+w),(0,255,0),3)\n",
    "    # the img to be added, left most coordinates,right most coordinates, color of rectangle, width of rectangle formed\n",
    "    \n",
    "\n",
    "cv2.imshow(\"RECOG IMG\",img)    \n",
    "    \n",
    "cv2.imshow(\"GRAY IMG\",gray_img)\n",
    "cv2.waitKey(0)\n",
    "cv2.destroyAllWindows()\n",
    "\n",
    "\n",
    "\n",
    "\n",
    "\n"
   ]
  },
  {
   "cell_type": "code",
   "execution_count": null,
   "metadata": {},
   "outputs": [],
   "source": []
  }
 ],
 "metadata": {
  "kernelspec": {
   "display_name": "Python 3",
   "language": "python",
   "name": "python3"
  },
  "language_info": {
   "codemirror_mode": {
    "name": "ipython",
    "version": 3
   },
   "file_extension": ".py",
   "mimetype": "text/x-python",
   "name": "python",
   "nbconvert_exporter": "python",
   "pygments_lexer": "ipython3",
   "version": "3.7.6"
  }
 },
 "nbformat": 4,
 "nbformat_minor": 4
}
