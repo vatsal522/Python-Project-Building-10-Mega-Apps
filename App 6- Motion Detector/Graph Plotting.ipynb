{
 "cells": [
  {
   "cell_type": "code",
   "execution_count": null,
   "metadata": {},
   "outputs": [],
   "source": [
    "import bokeh\n",
    "import pandas\n",
    "from bokeh.plotting import figure\n",
    "from bokeh.io import output_file,show\n",
    "\n",
    "#preparing data\n",
    "df=pandas.read_csv('table.csv',parse_dates=[\"Date\"])\n",
    "x=df['Date']\n",
    "y=df['Close']\n",
    "\n",
    "\n",
    "#prepare output file\n",
    "output_file('Table_data.html')\n",
    "\n",
    "#creating fiure\n",
    "f=figure(width=500,height=250,x_axis_type=\"datetime\")\n",
    "\n",
    "f.title.text=\"Year and Close\"\n",
    "f.title.text_color=\"red\"\n",
    "f.yaxis.minor_tick_line_color = \"red\"\n",
    "f.xaxis.minor_tick_line_color = \"red\"\n",
    "f.xaxis.axis_label=\"Year\"\n",
    "f.yaxis.axis_label=\"Close\"\n",
    "\n",
    "\n",
    "\n",
    "\n",
    "f.line(x,y,color=\"orange\",alpha=.9,line_width=5) #alpha is for transparency between 0 and 1\n",
    "f.circle(x,y,color=\"red\",size=1)\n",
    "\n",
    "show(f)"
   ]
  }
 ],
 "metadata": {
  "kernelspec": {
   "display_name": "Python 3",
   "language": "python",
   "name": "python3"
  },
  "language_info": {
   "codemirror_mode": {
    "name": "ipython",
    "version": 3
   },
   "file_extension": ".py",
   "mimetype": "text/x-python",
   "name": "python",
   "nbconvert_exporter": "python",
   "pygments_lexer": "ipython3",
   "version": "3.7.6"
  }
 },
 "nbformat": 4,
 "nbformat_minor": 4
}
