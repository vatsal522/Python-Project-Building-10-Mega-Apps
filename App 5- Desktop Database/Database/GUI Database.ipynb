{
 "cells": [
  {
   "cell_type": "code",
   "execution_count": 6,
   "metadata": {},
   "outputs": [],
   "source": [
    "import sqlite3\n",
    "import psycopg2 #lib used to connect to postgresql"
   ]
  },
  {
   "cell_type": "code",
   "execution_count": 21,
   "metadata": {},
   "outputs": [],
   "source": [
    "def create_table():\n",
    "    #postgresql by default comes with a DB named as postgres, hence we replace name of our SQL DB with postgresql DB name.\n",
    "    #after creating new DB using pgADmin. We change the DB name and replace sqlite3 with psycopg2\n",
    "    conn=psycopg2.connect(\"dbname='vatsal_store' user='postgres' password='vatsal' host='localhost' port='5432' \")\n",
    "    cur=conn.cursor()\n",
    "    cur.execute('create table if not exists item(id int, name text,qty int, price float)')\n",
    "    conn.commit()\n",
    "    conn.close()\n",
    "    \n",
    "def insert(idno,name,qty,price):\n",
    "    conn=psycopg2.connect(\"dbname='vatsal_store' user='postgres' password='vatsal' host='localhost' port='5432' \")\n",
    "    cur=conn.cursor()\n",
    "    cur.execute(\"insert into item values(%s,%s,%s,%s)\",(idno,name,qty,price))\n",
    "    #this method is used to avoid sql injection attack\n",
    "    #if we are using sqlite3, instead of %s we write ? and for postgresql we write it as %s\n",
    "    conn.commit()\n",
    "    conn.close()\n",
    "\n",
    "\n",
    "\n",
    "def view():\n",
    "    conn=psycopg2.connect(\"dbname='vatsal_store' user='postgres' password='vatsal' host='localhost' port='5432' \")\n",
    "    cur=conn.cursor()\n",
    "    cur.execute('select * from item')\n",
    "    rows=cur.fetchall()\n",
    "    conn.close()\n",
    "    return rows\n",
    "\n",
    "\n",
    "\n",
    "\n",
    "def delete(nameofitem):\n",
    "    conn=psycopg2.connect(\"dbname='vatsal_store' user='postgres' password='vatsal' host='localhost' port='5432' \")\n",
    "    cur=conn.cursor()\n",
    "    cur.execute('delete from item where name=(?)',(nameofitem,))\n",
    "    #idk why we added an extra , at the end of the variable we just passed\n",
    "    conn.commit()\n",
    "    conn.close()\n",
    "   \n",
    "    \n",
    "def update(idno,qty):\n",
    "    conn=psycopg2.connect(\"dbname='vatsal_store' user='postgres' password='vatsal' host='localhost' port='5432' \")\n",
    "    cur=conn.cursor()\n",
    "    cur.execute('update item set qty=? where id=?',(qty,idno))\n",
    "    conn.commit()\n",
    "    conn.close()"
   ]
  },
  {
   "cell_type": "code",
   "execution_count": 11,
   "metadata": {},
   "outputs": [],
   "source": [
    "create_table()"
   ]
  },
  {
   "cell_type": "code",
   "execution_count": 20,
   "metadata": {},
   "outputs": [],
   "source": [
    "insert(1,'milk',1000,41)"
   ]
  },
  {
   "cell_type": "code",
   "execution_count": 22,
   "metadata": {},
   "outputs": [
    {
     "data": {
      "text/plain": [
       "[(1, 'milk', 1000, 41.0)]"
      ]
     },
     "execution_count": 22,
     "metadata": {},
     "output_type": "execute_result"
    }
   ],
   "source": [
    "view()"
   ]
  },
  {
   "cell_type": "code",
   "execution_count": 18,
   "metadata": {},
   "outputs": [],
   "source": [
    "delete('cup')"
   ]
  },
  {
   "cell_type": "code",
   "execution_count": 19,
   "metadata": {},
   "outputs": [
    {
     "data": {
      "text/plain": [
       "[(1, 'maggi', 50, 80.5),\n",
       " (1, 'maggi', 50, 80.5),\n",
       " (1, 'maggi', 50, 80.5),\n",
       " (2, 'glass', 50, 100.0)]"
      ]
     },
     "execution_count": 19,
     "metadata": {},
     "output_type": "execute_result"
    }
   ],
   "source": [
    "view()"
   ]
  },
  {
   "cell_type": "code",
   "execution_count": 31,
   "metadata": {},
   "outputs": [
    {
     "data": {
      "text/plain": [
       "[(1, 'maggi', 100, 80.5),\n",
       " (1, 'maggi', 100, 80.5),\n",
       " (1, 'maggi', 100, 80.5),\n",
       " (2, 'glass', 1500, 100.0)]"
      ]
     },
     "execution_count": 31,
     "metadata": {},
     "output_type": "execute_result"
    }
   ],
   "source": [
    "update(1,100)\n",
    "view()"
   ]
  },
  {
   "cell_type": "code",
   "execution_count": 30,
   "metadata": {},
   "outputs": [
    {
     "data": {
      "text/plain": [
       "[(1, 'maggi', 100, 80.5),\n",
       " (1, 'maggi', 100, 80.5),\n",
       " (1, 'maggi', 100, 80.5),\n",
       " (2, 'glass', 1500, 100.0)]"
      ]
     },
     "execution_count": 30,
     "metadata": {},
     "output_type": "execute_result"
    }
   ],
   "source": [
    "update(2,1500)\n",
    "view()"
   ]
  },
  {
   "cell_type": "code",
   "execution_count": null,
   "metadata": {},
   "outputs": [],
   "source": []
  }
 ],
 "metadata": {
  "kernelspec": {
   "display_name": "Python 3",
   "language": "python",
   "name": "python3"
  },
  "language_info": {
   "codemirror_mode": {
    "name": "ipython",
    "version": 3
   },
   "file_extension": ".py",
   "mimetype": "text/x-python",
   "name": "python",
   "nbconvert_exporter": "python",
   "pygments_lexer": "ipython3",
   "version": "3.7.6"
  }
 },
 "nbformat": 4,
 "nbformat_minor": 4
}
